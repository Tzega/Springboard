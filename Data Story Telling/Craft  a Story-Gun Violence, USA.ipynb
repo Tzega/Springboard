{
 "cells": [
  {
   "cell_type": "markdown",
   "id": "59b84f58",
   "metadata": {},
   "source": [
    "# Craft a Story from Gun Violence, USA"
   ]
  },
  {
   "cell_type": "markdown",
   "id": "a3c9daaa",
   "metadata": {},
   "source": [
    "# Introduction"
   ]
  },
  {
   "cell_type": "markdown",
   "id": "d4889ba4",
   "metadata": {},
   "source": [
    "## Background"
   ]
  },
  {
   "cell_type": "markdown",
   "id": "829085ac",
   "metadata": {},
   "source": [
    "The history of mass shootings in the United States spans several decades, and unfortunately, it has become an all-too-familiar pattern of violence that has impacted countless individuals and communities. From 1982 to 2023, the United States has seen an alarming number of mass shootings that have resulted in numerous fatalities and injuries.\n",
    "\n",
    "Although there have been significant efforts to prevent future mass shootings, unfortunately, the United States has continued to experience tragic incidents of violence. Particullary school shootings have become an increasingly concerning issue over the past few decades, leading parents, such as myself, to worry about the safety of our children while they are at school.\n",
    "These tragic events have had a devastating impact on students, teachers, and communities, and have led to a national conversation about gun control, mental health, and school safety.\n",
    "\n",
    "The goal of this project is to identify which cities in the United States are more susceptible to experiencing tragic mass shootings, particularly in school settings. The decision to specifically investigate school shootings was driven by my personal concern for the safety of my children who attend elementary and middle schools. As a parent, I constantly ask myself whether it is safe to send my children to school, and I hope that this project can shed some light on this important issue.\n"
   ]
  },
  {
   "cell_type": "markdown",
   "id": "d8de2f09",
   "metadata": {},
   "source": [
    "# Dataset"
   ]
  },
  {
   "cell_type": "markdown",
   "id": "e4d11b9d",
   "metadata": {},
   "source": [
    "The dataset for this project is extracted from Kaggle: https://www.kaggle.com/datasets/nidzsharma/us-mass-shootings-19822023\n",
    "    "
   ]
  },
  {
   "cell_type": "markdown",
   "id": "2446132a",
   "metadata": {},
   "source": [
    "## Key Questions to answer"
   ]
  },
  {
   "cell_type": "markdown",
   "id": "cdbc9b84",
   "metadata": {},
   "source": [
    "The goal of this project is to focus on the overall question - \n",
    "\"which state in the United States are more susceptible to experiencing tragic mass shootings, particularly in school settings.\" The following sub-question will help us investigate the data further:\n",
    "\n",
    "    Which state has the most school shootings?\n",
    "    Which state has the highest number of victims?\n",
    "    Out of the total number of victims how man of them were fatal?    \n",
    "    what is the trend?\n"
   ]
  },
  {
   "cell_type": "markdown",
   "id": "4a02743b",
   "metadata": {},
   "source": [
    "# Imports"
   ]
  },
  {
   "cell_type": "code",
   "execution_count": 1,
   "id": "7eef2575",
   "metadata": {},
   "outputs": [],
   "source": [
    "import pandas as pd\n",
    "import numpy as np\n",
    "import os\n",
    "import matplotlib.pyplot as plt\n",
    "import seaborn as sns\n",
    "from sklearn.decomposition import PCA\n",
    "from sklearn.preprocessing import scale\n",
    "import scipy.stats as stats\n",
    "import folium\n"
   ]
  },
  {
   "cell_type": "code",
   "execution_count": 2,
   "id": "1297617e",
   "metadata": {},
   "outputs": [],
   "source": [
    "ShootingDf = pd.read_csv('shooting-1982-2023.csv')\n",
    "sns.set(style='ticks')"
   ]
  },
  {
   "cell_type": "markdown",
   "id": "8ef0f509",
   "metadata": {},
   "source": [
    "# Data Wrangling"
   ]
  },
  {
   "cell_type": "code",
   "execution_count": 3,
   "id": "c016e6e7",
   "metadata": {},
   "outputs": [
    {
     "name": "stdout",
     "output_type": "stream",
     "text": [
      "<class 'pandas.core.frame.DataFrame'>\n",
      "RangeIndex: 141 entries, 0 to 140\n",
      "Data columns (total 21 columns):\n",
      " #   Column                            Non-Null Count  Dtype \n",
      "---  ------                            --------------  ----- \n",
      " 0   case                              141 non-null    object\n",
      " 1   location                          141 non-null    object\n",
      " 2   date                              141 non-null    object\n",
      " 3   summary                           141 non-null    object\n",
      " 4   fatalities                        141 non-null    int64 \n",
      " 5   injured                           141 non-null    object\n",
      " 6   total_victims                     141 non-null    object\n",
      " 7   location.1                        141 non-null    object\n",
      " 8   age_of_shooter                    141 non-null    object\n",
      " 9   prior_signs_mental_health_issues  141 non-null    object\n",
      " 10  mental_health_details             141 non-null    object\n",
      " 11  weapons_obtained_legally          141 non-null    object\n",
      " 12  where_obtained                    141 non-null    object\n",
      " 13  weapon_type                       141 non-null    object\n",
      " 14  weapon_details                    140 non-null    object\n",
      " 15  race                              141 non-null    object\n",
      " 16  gender                            141 non-null    object\n",
      " 17  latitude                          141 non-null    object\n",
      " 18  longitude                         141 non-null    object\n",
      " 19  type                              141 non-null    object\n",
      " 20  year                              141 non-null    int64 \n",
      "dtypes: int64(2), object(19)\n",
      "memory usage: 23.3+ KB\n"
     ]
    }
   ],
   "source": [
    "ShootingDf.info()\n"
   ]
  },
  {
   "cell_type": "code",
   "execution_count": 4,
   "id": "70313636",
   "metadata": {},
   "outputs": [
    {
     "data": {
      "text/html": [
       "<div>\n",
       "<style scoped>\n",
       "    .dataframe tbody tr th:only-of-type {\n",
       "        vertical-align: middle;\n",
       "    }\n",
       "\n",
       "    .dataframe tbody tr th {\n",
       "        vertical-align: top;\n",
       "    }\n",
       "\n",
       "    .dataframe thead th {\n",
       "        text-align: right;\n",
       "    }\n",
       "</style>\n",
       "<table border=\"1\" class=\"dataframe\">\n",
       "  <thead>\n",
       "    <tr style=\"text-align: right;\">\n",
       "      <th></th>\n",
       "      <th>case</th>\n",
       "      <th>location</th>\n",
       "      <th>date</th>\n",
       "      <th>summary</th>\n",
       "      <th>fatalities</th>\n",
       "      <th>injured</th>\n",
       "      <th>total_victims</th>\n",
       "      <th>location.1</th>\n",
       "      <th>age_of_shooter</th>\n",
       "      <th>prior_signs_mental_health_issues</th>\n",
       "      <th>...</th>\n",
       "      <th>weapons_obtained_legally</th>\n",
       "      <th>where_obtained</th>\n",
       "      <th>weapon_type</th>\n",
       "      <th>weapon_details</th>\n",
       "      <th>race</th>\n",
       "      <th>gender</th>\n",
       "      <th>latitude</th>\n",
       "      <th>longitude</th>\n",
       "      <th>type</th>\n",
       "      <th>year</th>\n",
       "    </tr>\n",
       "  </thead>\n",
       "  <tbody>\n",
       "    <tr>\n",
       "      <th>0</th>\n",
       "      <td>Nashville religious school shooting</td>\n",
       "      <td>Nashville, TN</td>\n",
       "      <td>3-27-23</td>\n",
       "      <td>Audrey Hale, 28, who was a former student at t...</td>\n",
       "      <td>6</td>\n",
       "      <td>1</td>\n",
       "      <td>6</td>\n",
       "      <td>School</td>\n",
       "      <td>28</td>\n",
       "      <td>-</td>\n",
       "      <td>...</td>\n",
       "      <td>-</td>\n",
       "      <td>-</td>\n",
       "      <td>semiautomatic rifle, semiautomatic handgun</td>\n",
       "      <td>-</td>\n",
       "      <td>-</td>\n",
       "      <td>F (identified as transgender, per police)</td>\n",
       "      <td>-</td>\n",
       "      <td>-</td>\n",
       "      <td>Mass</td>\n",
       "      <td>2023</td>\n",
       "    </tr>\n",
       "    <tr>\n",
       "      <th>1</th>\n",
       "      <td>Michigan State University shooting</td>\n",
       "      <td>East Lansing, Michigan</td>\n",
       "      <td>2-13-23</td>\n",
       "      <td>Anthony D. McRae, 43, opened fire at Berkey Ha...</td>\n",
       "      <td>3</td>\n",
       "      <td>5</td>\n",
       "      <td>8</td>\n",
       "      <td>School</td>\n",
       "      <td>43</td>\n",
       "      <td>-</td>\n",
       "      <td>...</td>\n",
       "      <td>yes</td>\n",
       "      <td>-</td>\n",
       "      <td>semiautomatic handguns</td>\n",
       "      <td>-</td>\n",
       "      <td>Black</td>\n",
       "      <td>M</td>\n",
       "      <td>-</td>\n",
       "      <td>-</td>\n",
       "      <td>Mass</td>\n",
       "      <td>2023</td>\n",
       "    </tr>\n",
       "    <tr>\n",
       "      <th>2</th>\n",
       "      <td>Half Moon Bay spree shooting</td>\n",
       "      <td>Half Moon Bay, California</td>\n",
       "      <td>1-23-23</td>\n",
       "      <td>Chunli Zhao, 67, suspected of carrying out the...</td>\n",
       "      <td>7</td>\n",
       "      <td>1</td>\n",
       "      <td>8</td>\n",
       "      <td>workplace</td>\n",
       "      <td>67</td>\n",
       "      <td>-</td>\n",
       "      <td>...</td>\n",
       "      <td>-</td>\n",
       "      <td>-</td>\n",
       "      <td>semiautomatic handgun</td>\n",
       "      <td>-</td>\n",
       "      <td>Asian</td>\n",
       "      <td>M</td>\n",
       "      <td>-</td>\n",
       "      <td>-</td>\n",
       "      <td>Spree</td>\n",
       "      <td>2023</td>\n",
       "    </tr>\n",
       "    <tr>\n",
       "      <th>3</th>\n",
       "      <td>LA dance studio mass shooting</td>\n",
       "      <td>Monterey Park, California</td>\n",
       "      <td>1-21-23</td>\n",
       "      <td>Huu Can Tran, 72, fled the scene in a white va...</td>\n",
       "      <td>11</td>\n",
       "      <td>10</td>\n",
       "      <td>21</td>\n",
       "      <td>Other</td>\n",
       "      <td>72</td>\n",
       "      <td>yes</td>\n",
       "      <td>...</td>\n",
       "      <td>-</td>\n",
       "      <td>-</td>\n",
       "      <td>semiautomatic assault weapon (Details pending)</td>\n",
       "      <td>-</td>\n",
       "      <td>Asian</td>\n",
       "      <td>M</td>\n",
       "      <td>-</td>\n",
       "      <td>-</td>\n",
       "      <td>Mass</td>\n",
       "      <td>2023</td>\n",
       "    </tr>\n",
       "    <tr>\n",
       "      <th>4</th>\n",
       "      <td>Virginia Walmart shooting</td>\n",
       "      <td>Chesapeake, Virginia</td>\n",
       "      <td>11-22-22</td>\n",
       "      <td>Andre Bing, 31, who worked as a supervisor at ...</td>\n",
       "      <td>6</td>\n",
       "      <td>6</td>\n",
       "      <td>12</td>\n",
       "      <td>Workplace</td>\n",
       "      <td>31</td>\n",
       "      <td>-</td>\n",
       "      <td>...</td>\n",
       "      <td>-</td>\n",
       "      <td>-</td>\n",
       "      <td>semiautomatic handgun</td>\n",
       "      <td>-</td>\n",
       "      <td>Black</td>\n",
       "      <td>M</td>\n",
       "      <td>-</td>\n",
       "      <td>-</td>\n",
       "      <td>Mass</td>\n",
       "      <td>2022</td>\n",
       "    </tr>\n",
       "  </tbody>\n",
       "</table>\n",
       "<p>5 rows × 21 columns</p>\n",
       "</div>"
      ],
      "text/plain": [
       "                                  case                   location      date  \\\n",
       "0  Nashville religious school shooting              Nashville, TN   3-27-23   \n",
       "1   Michigan State University shooting     East Lansing, Michigan   2-13-23   \n",
       "2         Half Moon Bay spree shooting  Half Moon Bay, California   1-23-23   \n",
       "3        LA dance studio mass shooting  Monterey Park, California   1-21-23   \n",
       "4            Virginia Walmart shooting       Chesapeake, Virginia  11-22-22   \n",
       "\n",
       "                                             summary  fatalities injured  \\\n",
       "0  Audrey Hale, 28, who was a former student at t...           6       1   \n",
       "1  Anthony D. McRae, 43, opened fire at Berkey Ha...           3       5   \n",
       "2  Chunli Zhao, 67, suspected of carrying out the...           7       1   \n",
       "3  Huu Can Tran, 72, fled the scene in a white va...          11      10   \n",
       "4  Andre Bing, 31, who worked as a supervisor at ...           6       6   \n",
       "\n",
       "  total_victims location.1 age_of_shooter prior_signs_mental_health_issues  \\\n",
       "0             6     School             28                                -   \n",
       "1             8     School             43                                -   \n",
       "2             8  workplace             67                                -   \n",
       "3            21      Other             72                              yes   \n",
       "4            12  Workplace             31                                -   \n",
       "\n",
       "   ... weapons_obtained_legally where_obtained  \\\n",
       "0  ...                        -              -   \n",
       "1  ...                      yes              -   \n",
       "2  ...                        -              -   \n",
       "3  ...                        -              -   \n",
       "4  ...                        -              -   \n",
       "\n",
       "                                      weapon_type weapon_details   race  \\\n",
       "0      semiautomatic rifle, semiautomatic handgun              -      -   \n",
       "1                          semiautomatic handguns              -  Black   \n",
       "2                           semiautomatic handgun              -  Asian   \n",
       "3  semiautomatic assault weapon (Details pending)              -  Asian   \n",
       "4                           semiautomatic handgun              -  Black   \n",
       "\n",
       "                                      gender latitude longitude   type  year  \n",
       "0  F (identified as transgender, per police)        -         -   Mass  2023  \n",
       "1                                          M        -         -   Mass  2023  \n",
       "2                                          M        -         -  Spree  2023  \n",
       "3                                          M        -         -   Mass  2023  \n",
       "4                                          M        -         -   Mass  2022  \n",
       "\n",
       "[5 rows x 21 columns]"
      ]
     },
     "execution_count": 4,
     "metadata": {},
     "output_type": "execute_result"
    }
   ],
   "source": [
    "#check the dataframe content\n",
    "ShootingDf.head()"
   ]
  },
  {
   "cell_type": "code",
   "execution_count": 5,
   "id": "95c48a9e",
   "metadata": {},
   "outputs": [
    {
     "data": {
      "text/plain": [
       "case                                0\n",
       "location                            0\n",
       "date                                0\n",
       "summary                             0\n",
       "fatalities                          0\n",
       "injured                             0\n",
       "total_victims                       0\n",
       "location.1                          0\n",
       "age_of_shooter                      0\n",
       "prior_signs_mental_health_issues    0\n",
       "mental_health_details               0\n",
       "weapons_obtained_legally            0\n",
       "where_obtained                      0\n",
       "weapon_type                         0\n",
       "weapon_details                      1\n",
       "race                                0\n",
       "gender                              0\n",
       "latitude                            0\n",
       "longitude                           0\n",
       "type                                0\n",
       "year                                0\n",
       "dtype: int64"
      ]
     },
     "execution_count": 5,
     "metadata": {},
     "output_type": "execute_result"
    }
   ],
   "source": [
    "#check if the dataframe cotains null value\n",
    "ShootingDf.isna().sum()"
   ]
  },
  {
   "cell_type": "code",
   "execution_count": 6,
   "id": "0ec0a511",
   "metadata": {},
   "outputs": [
    {
     "data": {
      "text/plain": [
       "Other          50\n",
       "Workplace      45\n",
       "School         22\n",
       "Religious       7\n",
       "Military        6\n",
       "workplace       5\n",
       "Other\\n         3\n",
       "religious       1\n",
       "Airport         1\n",
       "\\nWorkplace     1\n",
       "Name: location.1, dtype: int64"
      ]
     },
     "execution_count": 6,
     "metadata": {},
     "output_type": "execute_result"
    }
   ],
   "source": [
    "#check the column location\n",
    "ShootingDf['location.1'].value_counts()"
   ]
  },
  {
   "cell_type": "code",
   "execution_count": 7,
   "id": "de8418f2",
   "metadata": {},
   "outputs": [],
   "source": [
    "#cleaing the dataset for locaiton\n",
    "ShootingDf.replace({'Other\\n':'Other',\n",
    "              '\\nWorkplace': 'Workplace',\n",
    "              'workplace': 'Workplace',\n",
    "              'religious':'Religious'\n",
    "    },inplace=True)"
   ]
  },
  {
   "cell_type": "code",
   "execution_count": 8,
   "id": "98dcb682",
   "metadata": {},
   "outputs": [
    {
     "data": {
      "text/plain": [
       "Other        53\n",
       "Workplace    51\n",
       "School       22\n",
       "Religious     8\n",
       "Military      6\n",
       "Airport       1\n",
       "Name: location.1, dtype: int64"
      ]
     },
     "execution_count": 8,
     "metadata": {},
     "output_type": "execute_result"
    }
   ],
   "source": [
    "ShootingDf['location.1'].value_counts()"
   ]
  },
  {
   "cell_type": "code",
   "execution_count": 9,
   "id": "d11d45fd",
   "metadata": {},
   "outputs": [
    {
     "data": {
      "text/html": [
       "<div>\n",
       "<style scoped>\n",
       "    .dataframe tbody tr th:only-of-type {\n",
       "        vertical-align: middle;\n",
       "    }\n",
       "\n",
       "    .dataframe tbody tr th {\n",
       "        vertical-align: top;\n",
       "    }\n",
       "\n",
       "    .dataframe thead th {\n",
       "        text-align: right;\n",
       "    }\n",
       "</style>\n",
       "<table border=\"1\" class=\"dataframe\">\n",
       "  <thead>\n",
       "    <tr style=\"text-align: right;\">\n",
       "      <th></th>\n",
       "      <th>latitude</th>\n",
       "      <th>longitude</th>\n",
       "    </tr>\n",
       "  </thead>\n",
       "  <tbody>\n",
       "    <tr>\n",
       "      <th>0</th>\n",
       "      <td>-</td>\n",
       "      <td>-</td>\n",
       "    </tr>\n",
       "    <tr>\n",
       "      <th>1</th>\n",
       "      <td>-</td>\n",
       "      <td>-</td>\n",
       "    </tr>\n",
       "    <tr>\n",
       "      <th>2</th>\n",
       "      <td>-</td>\n",
       "      <td>-</td>\n",
       "    </tr>\n",
       "    <tr>\n",
       "      <th>3</th>\n",
       "      <td>-</td>\n",
       "      <td>-</td>\n",
       "    </tr>\n",
       "    <tr>\n",
       "      <th>4</th>\n",
       "      <td>-</td>\n",
       "      <td>-</td>\n",
       "    </tr>\n",
       "    <tr>\n",
       "      <th>...</th>\n",
       "      <td>...</td>\n",
       "      <td>...</td>\n",
       "    </tr>\n",
       "    <tr>\n",
       "      <th>136</th>\n",
       "      <td>28.0331886</td>\n",
       "      <td>-80.6429695</td>\n",
       "    </tr>\n",
       "    <tr>\n",
       "      <th>137</th>\n",
       "      <td>35.6672015</td>\n",
       "      <td>-97.42937037</td>\n",
       "    </tr>\n",
       "    <tr>\n",
       "      <th>138</th>\n",
       "      <td>32.5520013</td>\n",
       "      <td>-117.0430813</td>\n",
       "    </tr>\n",
       "    <tr>\n",
       "      <th>139</th>\n",
       "      <td>32.925166</td>\n",
       "      <td>-96.838676</td>\n",
       "    </tr>\n",
       "    <tr>\n",
       "      <th>140</th>\n",
       "      <td>25.796491</td>\n",
       "      <td>-80.226683</td>\n",
       "    </tr>\n",
       "  </tbody>\n",
       "</table>\n",
       "<p>141 rows × 2 columns</p>\n",
       "</div>"
      ],
      "text/plain": [
       "       latitude     longitude\n",
       "0             -             -\n",
       "1             -             -\n",
       "2             -             -\n",
       "3             -             -\n",
       "4             -             -\n",
       "..          ...           ...\n",
       "136  28.0331886   -80.6429695\n",
       "137  35.6672015  -97.42937037\n",
       "138  32.5520013  -117.0430813\n",
       "139   32.925166    -96.838676\n",
       "140   25.796491    -80.226683\n",
       "\n",
       "[141 rows x 2 columns]"
      ]
     },
     "execution_count": 9,
     "metadata": {},
     "output_type": "execute_result"
    }
   ],
   "source": [
    "ShootingDf[['latitude','longitude']]"
   ]
  },
  {
   "cell_type": "code",
   "execution_count": 10,
   "id": "d6b02b89",
   "metadata": {},
   "outputs": [
    {
     "data": {
      "text/plain": [
       "0             NaN\n",
       "1             NaN\n",
       "2             NaN\n",
       "3             NaN\n",
       "4             NaN\n",
       "          ...    \n",
       "136    28.0331886\n",
       "137    35.6672015\n",
       "138    32.5520013\n",
       "139     32.925166\n",
       "140     25.796491\n",
       "Name: latitude, Length: 141, dtype: object"
      ]
     },
     "execution_count": 10,
     "metadata": {},
     "output_type": "execute_result"
    }
   ],
   "source": [
    "ShootingDf['latitude'].replace('-', np.nan)"
   ]
  },
  {
   "cell_type": "code",
   "execution_count": 11,
   "id": "11054d48",
   "metadata": {},
   "outputs": [],
   "source": [
    "ShootingDf['longitude'].replace('-', np.nan, inplace=True)"
   ]
  },
  {
   "cell_type": "code",
   "execution_count": 12,
   "id": "e5ecae18",
   "metadata": {},
   "outputs": [
    {
     "data": {
      "text/html": [
       "<div>\n",
       "<style scoped>\n",
       "    .dataframe tbody tr th:only-of-type {\n",
       "        vertical-align: middle;\n",
       "    }\n",
       "\n",
       "    .dataframe tbody tr th {\n",
       "        vertical-align: top;\n",
       "    }\n",
       "\n",
       "    .dataframe thead th {\n",
       "        text-align: right;\n",
       "    }\n",
       "</style>\n",
       "<table border=\"1\" class=\"dataframe\">\n",
       "  <thead>\n",
       "    <tr style=\"text-align: right;\">\n",
       "      <th></th>\n",
       "      <th>latitude</th>\n",
       "      <th>longitude</th>\n",
       "    </tr>\n",
       "  </thead>\n",
       "  <tbody>\n",
       "    <tr>\n",
       "      <th>0</th>\n",
       "      <td>-</td>\n",
       "      <td>NaN</td>\n",
       "    </tr>\n",
       "    <tr>\n",
       "      <th>1</th>\n",
       "      <td>-</td>\n",
       "      <td>NaN</td>\n",
       "    </tr>\n",
       "    <tr>\n",
       "      <th>2</th>\n",
       "      <td>-</td>\n",
       "      <td>NaN</td>\n",
       "    </tr>\n",
       "    <tr>\n",
       "      <th>3</th>\n",
       "      <td>-</td>\n",
       "      <td>NaN</td>\n",
       "    </tr>\n",
       "    <tr>\n",
       "      <th>4</th>\n",
       "      <td>-</td>\n",
       "      <td>NaN</td>\n",
       "    </tr>\n",
       "    <tr>\n",
       "      <th>...</th>\n",
       "      <td>...</td>\n",
       "      <td>...</td>\n",
       "    </tr>\n",
       "    <tr>\n",
       "      <th>136</th>\n",
       "      <td>28.0331886</td>\n",
       "      <td>-80.6429695</td>\n",
       "    </tr>\n",
       "    <tr>\n",
       "      <th>137</th>\n",
       "      <td>35.6672015</td>\n",
       "      <td>-97.42937037</td>\n",
       "    </tr>\n",
       "    <tr>\n",
       "      <th>138</th>\n",
       "      <td>32.5520013</td>\n",
       "      <td>-117.0430813</td>\n",
       "    </tr>\n",
       "    <tr>\n",
       "      <th>139</th>\n",
       "      <td>32.925166</td>\n",
       "      <td>-96.838676</td>\n",
       "    </tr>\n",
       "    <tr>\n",
       "      <th>140</th>\n",
       "      <td>25.796491</td>\n",
       "      <td>-80.226683</td>\n",
       "    </tr>\n",
       "  </tbody>\n",
       "</table>\n",
       "<p>141 rows × 2 columns</p>\n",
       "</div>"
      ],
      "text/plain": [
       "       latitude     longitude\n",
       "0             -           NaN\n",
       "1             -           NaN\n",
       "2             -           NaN\n",
       "3             -           NaN\n",
       "4             -           NaN\n",
       "..          ...           ...\n",
       "136  28.0331886   -80.6429695\n",
       "137  35.6672015  -97.42937037\n",
       "138  32.5520013  -117.0430813\n",
       "139   32.925166    -96.838676\n",
       "140   25.796491    -80.226683\n",
       "\n",
       "[141 rows x 2 columns]"
      ]
     },
     "execution_count": 12,
     "metadata": {},
     "output_type": "execute_result"
    }
   ],
   "source": [
    "ShootingDf[['latitude','longitude']]"
   ]
  },
  {
   "cell_type": "markdown",
   "id": "2aaa17aa",
   "metadata": {},
   "source": [
    "# Feature engineering"
   ]
  },
  {
   "cell_type": "code",
   "execution_count": 13,
   "id": "0ece4c59",
   "metadata": {},
   "outputs": [
    {
     "data": {
      "text/plain": [
       "130"
      ]
     },
     "execution_count": 13,
     "metadata": {},
     "output_type": "execute_result"
    }
   ],
   "source": [
    "ShootingDf['location'].nunique()"
   ]
  },
  {
   "cell_type": "code",
   "execution_count": 14,
   "id": "a57b5176",
   "metadata": {},
   "outputs": [],
   "source": [
    "#extract city and state from location column by splitting the column\n",
    "ShootingDf[['City','State']] = ShootingDf['location'].str.split(',',expand = True)"
   ]
  },
  {
   "cell_type": "code",
   "execution_count": 15,
   "id": "9d2e275e",
   "metadata": {},
   "outputs": [],
   "source": [
    "ShootingDf['State'] = ShootingDf['State'].str.strip()\n"
   ]
  },
  {
   "cell_type": "code",
   "execution_count": 16,
   "id": "bfe0d100",
   "metadata": {},
   "outputs": [
    {
     "data": {
      "text/plain": [
       "array(['TN', 'Michigan', 'California', 'Virginia', 'Colorado',\n",
       "       'North Carolina', 'Indiana', 'Illinois', 'Alabama', 'Maryland',\n",
       "       'Oklahoma', 'Texas', 'New York', 'Georgia', 'Missouri',\n",
       "       'Wisconsin', 'New Jersey', 'Florida', 'Ohio', 'Pennsylvania',\n",
       "       'Tennessee', 'Nevada', 'Washington', 'Lousiana', 'Kansas',\n",
       "       'Oregon', 'South Carolina', 'D.C.', 'Connecticut', 'Minnesota',\n",
       "       'Arizona', 'Kentucky', 'Nebraska', 'Utah', 'Mississippi',\n",
       "       'Massachusetts', 'Hawaii', 'Arkansas', 'Iowa'], dtype=object)"
      ]
     },
     "execution_count": 16,
     "metadata": {},
     "output_type": "execute_result"
    }
   ],
   "source": [
    "ShootingDf['State'].unique()"
   ]
  },
  {
   "cell_type": "code",
   "execution_count": 17,
   "id": "55f5f048",
   "metadata": {},
   "outputs": [],
   "source": [
    "#clean the column state\n",
    "ShootingDf['State'].replace('TN', 'Tennessee',inplace=True)"
   ]
  },
  {
   "cell_type": "code",
   "execution_count": 18,
   "id": "ba56236c",
   "metadata": {},
   "outputs": [
    {
     "data": {
      "text/plain": [
       "array(['Tennessee', 'Michigan', 'California', 'Virginia', 'Colorado',\n",
       "       'North Carolina', 'Indiana', 'Illinois', 'Alabama', 'Maryland',\n",
       "       'Oklahoma', 'Texas', 'New York', 'Georgia', 'Missouri',\n",
       "       'Wisconsin', 'New Jersey', 'Florida', 'Ohio', 'Pennsylvania',\n",
       "       'Nevada', 'Washington', 'Lousiana', 'Kansas', 'Oregon',\n",
       "       'South Carolina', 'D.C.', 'Connecticut', 'Minnesota', 'Arizona',\n",
       "       'Kentucky', 'Nebraska', 'Utah', 'Mississippi', 'Massachusetts',\n",
       "       'Hawaii', 'Arkansas', 'Iowa'], dtype=object)"
      ]
     },
     "execution_count": 18,
     "metadata": {},
     "output_type": "execute_result"
    }
   ],
   "source": [
    "ShootingDf['State'].unique()"
   ]
  },
  {
   "cell_type": "code",
   "execution_count": 19,
   "id": "0824b55b",
   "metadata": {},
   "outputs": [
    {
     "data": {
      "text/plain": [
       "array(['6', '8', '21', '12', '30', '5', '7', '53', '3', '4', 'TK', '38',\n",
       "       '13', '11', '9', '15', '10', '32', '36', '48', '16', '34', '17',\n",
       "       '23', '46', '604', '102', '35', '18', '19', '20', '29', '82', '44',\n",
       "       '26', '55', '22', '37', '28', '25', '14', '41'], dtype=object)"
      ]
     },
     "execution_count": 19,
     "metadata": {},
     "output_type": "execute_result"
    }
   ],
   "source": [
    "#clean the column total_victims\n",
    "ShootingDf['total_victims'].unique()"
   ]
  },
  {
   "cell_type": "code",
   "execution_count": 20,
   "id": "015865c9",
   "metadata": {},
   "outputs": [],
   "source": [
    "ShootingDf['total_victims'].replace('TK', np.NaN, inplace=True)"
   ]
  },
  {
   "cell_type": "code",
   "execution_count": 21,
   "id": "0d044be8",
   "metadata": {},
   "outputs": [],
   "source": [
    "ShootingDf['total_victims'] = pd.to_numeric(ShootingDf['total_victims'], errors='coerce')\n",
    "\n",
    "# fill NaN values with 0\n",
    "ShootingDf['total_victims'].fillna(0, inplace=True)\n",
    "\n",
    "# convert column to integer dtype\n",
    "ShootingDf['total_victims'] = ShootingDf['total_victims'].astype(int)"
   ]
  },
  {
   "cell_type": "code",
   "execution_count": 22,
   "id": "ff6eec54",
   "metadata": {},
   "outputs": [
    {
     "data": {
      "text/plain": [
       "array([  6,   8,  21,  12,  30,   5,   7,  53,   3,   4,   0,  38,  13,\n",
       "        11,   9,  15,  10,  32,  36,  48,  16,  34,  17,  23,  46, 604,\n",
       "       102,  35,  18,  19,  20,  29,  82,  44,  26,  55,  22,  37,  28,\n",
       "        25,  14,  41])"
      ]
     },
     "execution_count": 22,
     "metadata": {},
     "output_type": "execute_result"
    }
   ],
   "source": [
    "ShootingDf['total_victims'].unique()"
   ]
  },
  {
   "cell_type": "markdown",
   "id": "9a1154f5",
   "metadata": {},
   "source": [
    "# Exploratory Data Analysis"
   ]
  },
  {
   "cell_type": "markdown",
   "id": "a3ebf0df",
   "metadata": {},
   "source": [
    "## Plot mass shooting per location"
   ]
  },
  {
   "cell_type": "code",
   "execution_count": 23,
   "id": "72335b86",
   "metadata": {},
   "outputs": [
    {
     "data": {
      "image/png": "[encoded data removed]",
      "text/plain": [
       "<Figure size 720x360 with 1 Axes>"
      ]
     },
     "metadata": {},
     "output_type": "display_data"
    }
   ],
   "source": [
    "fig, ax = plt.subplots(figsize=(10, 5))\n",
    "ShootingDf['location.1'].value_counts().plot.bar(rot=0, color='red', ax=ax)\n",
    "\n",
    "ax.set_xlabel('Location')\n",
    "ax.set_ylabel('Count')\n",
    "ax.set_title('Location Counts')\n",
    "plt.show()"
   ]
  },
  {
   "cell_type": "markdown",
   "id": "b28b02c3",
   "metadata": {},
   "source": [
    "The plot above shows that in general, workplace settings tend to experience more mass shootings compared to schools. Nonetheless, the critical question is how do the fatality rates of mass shootings in workplaces compare to those in school environments?"
   ]
  },
  {
   "cell_type": "markdown",
   "id": "39d3b84c",
   "metadata": {},
   "source": [
    "To understand the comparison, we will plot fatality rate by location"
   ]
  },
  {
   "cell_type": "code",
   "execution_count": 24,
   "id": "0ced560d",
   "metadata": {},
   "outputs": [
    {
     "data": {
      "image/png": "[encoded data removed]",
      "text/plain": [
       "<Figure size 720x360 with 1 Axes>"
      ]
     },
     "metadata": {},
     "output_type": "display_data"
    }
   ],
   "source": [
    "fig, ax = plt.subplots(figsize=(10, 5))\n",
    "ShootingDf.plot.scatter(x='location.1', y='fatalities', color='red', ax=ax)\n",
    "\n",
    "ax.set_xlabel('Location')\n",
    "ax.set_ylabel('Fatalities')\n",
    "ax.set_title('Fatalities vs. Location')\n",
    "plt.show()\n",
    "\n"
   ]
  },
  {
   "cell_type": "markdown",
   "id": "6c8f23f6",
   "metadata": {},
   "source": [
    "Per the plot above, while it is true that mass shootings in the workplace may occur more frequently than in schools, the fatality rate and number of victims of school shootings tends to be higher.  This may be due to the concentrated number of school children in a confined area, often with limited means of escape."
   ]
  },
  {
   "cell_type": "markdown",
   "id": "aa78aea0",
   "metadata": {},
   "source": [
    "## Top states with the highest number of shootings "
   ]
  },
  {
   "cell_type": "code",
   "execution_count": 25,
   "id": "71484038",
   "metadata": {},
   "outputs": [
    {
     "data": {
      "image/png": "[encoded data removed]",
      "text/plain": [
       "<Figure size 1080x720 with 1 Axes>"
      ]
     },
     "metadata": {},
     "output_type": "display_data"
    }
   ],
   "source": [
    "plt.figure(figsize=(15, 10))\n",
    "ax = ShootingDf['State'].value_counts()[:10].sort_values().plot(kind='barh', color='red')\n",
    "ax.set_xlabel('Number of School Shootings')\n",
    "ax.set_ylabel('State')\n",
    "ax.set_title('Top 10 States with the Most School Shootings')\n",
    "plt.show()\n",
    "\n"
   ]
  },
  {
   "cell_type": "markdown",
   "id": "db856d69",
   "metadata": {},
   "source": [
    "California ranks the highest in number of shootings overall.\n",
    "\n",
    "But, do  most school shootings also happen in Califonia ?"
   ]
  },
  {
   "cell_type": "markdown",
   "id": "2ca77152",
   "metadata": {},
   "source": [
    "## Top states with the highest number of school shootings"
   ]
  },
  {
   "cell_type": "markdown",
   "id": "d09cd20c",
   "metadata": {},
   "source": [
    "Were there more than one shooting in any state in a school setting?"
   ]
  },
  {
   "cell_type": "code",
   "execution_count": 26,
   "id": "6b206810",
   "metadata": {},
   "outputs": [
    {
     "data": {
      "text/plain": [
       "California      4\n",
       "Michigan        2\n",
       "Virginia        2\n",
       "Texas           2\n",
       "Oregon          2\n",
       "Tennessee       1\n",
       "Florida         1\n",
       "Washington      1\n",
       "Connecticut     1\n",
       "Illinois        1\n",
       "Pennsylvania    1\n",
       "Minnesota       1\n",
       "Colorado        1\n",
       "Arkansas        1\n",
       "Iowa            1\n",
       "Name: State, dtype: int64"
      ]
     },
     "execution_count": 26,
     "metadata": {},
     "output_type": "execute_result"
    }
   ],
   "source": [
    "school_shootings = ShootingDf[ShootingDf['location.1'] == 'School']\n",
    "school_shootings['State'].value_counts()\n"
   ]
  },
  {
   "cell_type": "code",
   "execution_count": 27,
   "id": "c3b5253a",
   "metadata": {},
   "outputs": [
    {
     "data": {
      "image/png": "[encoded data removed]",
      "text/plain": [
       "<Figure size 1080x504 with 1 Axes>"
      ]
     },
     "metadata": {},
     "output_type": "display_data"
    }
   ],
   "source": [
    "plt.figure(figsize=(15, 7))\n",
    "ax = ShootingDf[ShootingDf['location.1'] == 'School']['State'].value_counts().plot(kind='bar', color='red')\n",
    "\n"
   ]
  },
  {
   "cell_type": "markdown",
   "id": "0e8a44f6",
   "metadata": {},
   "source": [
    "Yes, California has the most school shootings (i.e 4), followed by Michigan, Virginia, Texas and Oregon with 2 incidents each."
   ]
  },
  {
   "cell_type": "markdown",
   "id": "9fb13b12",
   "metadata": {},
   "source": [
    "## States with highest number of total victims"
   ]
  },
  {
   "cell_type": "markdown",
   "id": "3bf053b9",
   "metadata": {},
   "source": [
    "We will investigate if California, with the highest number of school shooting rates, also has the most victims. "
   ]
  },
  {
   "cell_type": "code",
   "execution_count": 28,
   "id": "58547272",
   "metadata": {},
   "outputs": [
    {
     "name": "stdout",
     "output_type": "stream",
     "text": [
      "State\n",
      "California      78\n",
      "Texas           61\n",
      "Virginia        60\n",
      "Oregon          47\n",
      "Colorado        37\n",
      "Florida         34\n",
      "Connecticut     29\n",
      "Illinois        26\n",
      "Michigan        19\n",
      "Arkansas        15\n",
      "Minnesota       15\n",
      "Pennsylvania    11\n",
      "Iowa             7\n",
      "Tennessee        6\n",
      "Washington       6\n",
      "Name: total_victims, dtype: int32\n"
     ]
    }
   ],
   "source": [
    "school_shootings = ShootingDf[ShootingDf['location.1'] == 'School']\n",
    "school_shootings_total_victim = school_shootings.groupby('State')['total_victims'].sum()\n",
    "school_shootings_total_victim = school_shootings_total_victim.sort_values(ascending=False)\n",
    "print(school_shootings_total_victim)"
   ]
  },
  {
   "cell_type": "markdown",
   "id": "af896c7e",
   "metadata": {},
   "source": [
    "California had a total of 78 victims from school shootings, which is the highest number. \n",
    "\n",
    "Even though Texas, Virginia, Oregon and Michigan have same number of shooting rate, i.e. 2, Texas, with the same number of rate has the highest number of victims. At the same time Colorado had less school shooting incident (i.e. 1), but it had higher number of victims than states like Michigan that had 2 school shootings. \n",
    "\n",
    "The number of incidents of school shootings in a state does not necessarily indicate the severity of the incidents. The total number of victims is an important factor to consider as well. Texas and Colorado had more victims in their shootings, even though they had fewer incidents overall. This underscores the importance of looking at multiple factors when evaluating the impact of school shootings in different states.\n"
   ]
  },
  {
   "cell_type": "markdown",
   "id": "c2f9fac2",
   "metadata": {},
   "source": [
    "On the other hand, the number of school shootings alone does not fully capture the severity of the incidents, as the number of victims can vary greatly even within states with the same number of incidents. Therefore, it is crucial to consider both the number of shootings and the number of victims to have a more comprehensive understanding of the impact of school shootings in different states"
   ]
  },
  {
   "cell_type": "markdown",
   "id": "faf7d3b9",
   "metadata": {},
   "source": [
    "## School Shooting Trend over Time"
   ]
  },
  {
   "cell_type": "markdown",
   "id": "1cfa3185",
   "metadata": {},
   "source": [
    "Investigate the trend of school schootings over time. Is it increasng or decreasing?"
   ]
  },
  {
   "cell_type": "code",
   "execution_count": 29,
   "id": "af78ac65",
   "metadata": {},
   "outputs": [
    {
     "data": {
      "image/png": "[encoded data removed]",
      "text/plain": [
       "<Figure size 864x576 with 1 Axes>"
      ]
     },
     "metadata": {},
     "output_type": "display_data"
    }
   ],
   "source": [
    "# convert year column to datetime objects\n",
    "ShootingDf['year'] = pd.to_datetime(ShootingDf['year'], format='%Y')\n",
    "\n",
    "# group by 5-year intervals and count occurrences\n",
    "shootings_per_interval = ShootingDf[ShootingDf['location.1'] == 'School'].groupby(pd.Grouper(key='year', freq='5Y')).size()\n",
    "\n",
    "# plot the trend\n",
    "fig, ax = plt.subplots(figsize=(12, 8))\n",
    "ax.bar(shootings_per_interval.index.year, shootings_per_interval.values)\n",
    "\n",
    "# add a line plot on top\n",
    "ax.plot(shootings_per_interval.index.year, shootings_per_interval.values, color='red', linewidth=3)\n",
    "\n",
    "# set the labels and title\n",
    "ax.set_xlabel('Year')\n",
    "ax.set_ylabel('Number of School Shootings')\n",
    "ax.set_title('Trend of School Shootings over 5-Year Intervals')\n",
    "\n",
    "# display the plot\n",
    "plt.show()\n"
   ]
  },
  {
   "cell_type": "markdown",
   "id": "19c6d6be",
   "metadata": {},
   "source": [
    "The trend shown in the above plot tells us that there has been an overall increase in school shootings over time. "
   ]
  },
  {
   "cell_type": "code",
   "execution_count": 30,
   "id": "524f18e3",
   "metadata": {},
   "outputs": [
    {
     "data": {
      "image/png": "[encoded data removed]",
      "text/plain": [
       "<Figure size 1080x432 with 1 Axes>"
      ]
     },
     "metadata": {},
     "output_type": "display_data"
    }
   ],
   "source": [
    "# Convert year column to datetime objects\n",
    "ShootingDf['year'] = pd.to_datetime(ShootingDf['year'], format='%Y')\n",
    "\n",
    "# Group by year and sum the number of total victims\n",
    "total_victims_per_year = ShootingDf[ShootingDf['location.1'] == 'School'].groupby(pd.Grouper(key='year', freq='1Y'))['total_victims'].sum()\n",
    "\n",
    "# Plot the trend\n",
    "fig, ax = plt.subplots(figsize=(15, 6))\n",
    "ax.plot(total_victims_per_year.index.year, total_victims_per_year.values, color='blue', linewidth=3)\n",
    "\n",
    "# Set the labels and title\n",
    "ax.set_xlabel('Year')\n",
    "ax.set_ylabel('Total number of victims')\n",
    "ax.set_title('Trend of total number of victims in school shootings')\n",
    "\n",
    "# Display the plot\n",
    "plt.show()"
   ]
  },
  {
   "cell_type": "code",
   "execution_count": 35,
   "id": "79f812e1",
   "metadata": {},
   "outputs": [
    {
     "data": {
      "image/png": "[encoded data removed]",
      "text/plain": [
       "<Figure size 576x432 with 1 Axes>"
      ]
     },
     "metadata": {},
     "output_type": "display_data"
    }
   ],
   "source": [
    "# filter for school shootings only\n",
    "school_shootings = ShootingDf[ShootingDf['location.1'] == 'School']\n",
    "\n",
    "# calculate total number of victims and number of fatalities\n",
    "total_victims = school_shootings['total_victims'].sum()\n",
    "total_fatalities = school_shootings['fatalities'].sum()\n",
    "\n",
    "# create a stacked bar chart\n",
    "plt.figure(figsize=(8,6))\n",
    "plt.bar(['Total Victims', 'Fatalities'], [total_victims, total_fatalities], color=['blue', 'red'])\n",
    "\n",
    "# add text labels with percentage values\n",
    "plt.text(0, total_victims + 5, str(victims_percent) + '%', ha='center', fontsize=12)\n",
    "plt.text(1, total_fatalities + 5, str(fatalities_percent) + '%', ha='center', fontsize=12)\n",
    "\n",
    "plt.ylabel('Number of People')\n",
    "plt.title('Comparison of Total Victims and Fatalities in School Shootings')\n",
    "\n",
    "plt.show()"
   ]
  },
  {
   "cell_type": "markdown",
   "id": "5dd0e061",
   "metadata": {},
   "source": [
    "## Age of school Shooters"
   ]
  },
  {
   "cell_type": "code",
   "execution_count": 36,
   "id": "a9260372",
   "metadata": {},
   "outputs": [
    {
     "data": {
      "text/plain": [
       "15    3\n",
       "28    2\n",
       "43    2\n",
       "22    2\n",
       "17    2\n",
       "26    2\n",
       "20    2\n",
       "18    1\n",
       "19    1\n",
       "27    1\n",
       "23    1\n",
       "32    1\n",
       "16    1\n",
       "11    1\n",
       "Name: age_of_shooter, dtype: int64"
      ]
     },
     "execution_count": 36,
     "metadata": {},
     "output_type": "execute_result"
    }
   ],
   "source": [
    "school_shootings = ShootingDf[ShootingDf['location.1'] == 'School']\n",
    "school_shootings['age_of_shooter'].value_counts()"
   ]
  },
  {
   "cell_type": "code",
   "execution_count": 37,
   "id": "ef2d8c1f",
   "metadata": {},
   "outputs": [
    {
     "data": {
      "image/png": "[encoded data removed]",
      "text/plain": [
       "<Figure size 720x432 with 1 Axes>"
      ]
     },
     "metadata": {},
     "output_type": "display_data"
    }
   ],
   "source": [
    "import matplotlib.pyplot as plt\n",
    "\n",
    "school_shootings = ShootingDf[ShootingDf['location.1'] == 'School']\n",
    "age_of_shooter = school_shootings['age_of_shooter'].dropna().astype(int)\n",
    "\n",
    "plt.figure(figsize=(10, 6))\n",
    "plt.hist(age_of_shooter, bins=20)\n",
    "plt.xlabel('Age of shooter')\n",
    "plt.ylabel('Frequency')\n",
    "plt.title('Age distribution of school shooters')\n",
    "plt.show()\n"
   ]
  },
  {
   "cell_type": "markdown",
   "id": "1c1702c9",
   "metadata": {},
   "source": [
    "From the plot above, it is evident that younger individuals are more likely to carry out school shootings attacks.\n",
    "\n",
    "The question is why younger individuls tend to attack schools?\n",
    "\n",
    "\n",
    "One factor is the presence of mental health issues, which may be more common among younger individuals. Conditions such as depression, anxiety, and personality disorders may contribute to feelings of hopelessness or desperation that could lead to violent behavior."
   ]
  },
  {
   "cell_type": "markdown",
   "id": "56b3620b",
   "metadata": {},
   "source": [
    "## Mental health status of the shooter"
   ]
  },
  {
   "cell_type": "code",
   "execution_count": 38,
   "id": "2189e91b",
   "metadata": {},
   "outputs": [],
   "source": [
    "ShootingDf['mental_health_issues'] = ShootingDf['prior_signs_mental_health_issues'].apply(lambda x: 1 if x == 'Yes' else 0)\n"
   ]
  },
  {
   "cell_type": "code",
   "execution_count": 39,
   "id": "b1331ac6",
   "metadata": {},
   "outputs": [
    {
     "data": {
      "image/png": "[encoded data removed]",
      "text/plain": [
       "<Figure size 720x432 with 1 Axes>"
      ]
     },
     "metadata": {},
     "output_type": "display_data"
    },
    {
     "name": "stdout",
     "output_type": "stream",
     "text": [
      "Percentage of school shootings with prior signs of mental health issues: 45.45454545454545\n",
      "Percentage of school shootings without prior signs of mental health issues: 54.54545454545454\n"
     ]
    }
   ],
   "source": [
    "school_shootings = ShootingDf[ShootingDf['location.1'] == 'School']\n",
    "\n",
    "age_of_shooter_with_mental_health_issues = school_shootings[school_shootings['mental_health_issues'] == 1]['age_of_shooter'].dropna().astype(int)\n",
    "age_of_shooter_without_mental_health_issues = school_shootings[school_shootings['mental_health_issues'] == 0]['age_of_shooter'].dropna().astype(int)\n",
    "\n",
    "bins = np.arange(0, 45, 5)\n",
    "plt.figure(figsize=(10, 6))\n",
    "plt.hist([age_of_shooter_with_mental_health_issues, age_of_shooter_without_mental_health_issues], bins=bins, label=['With mental health issues', 'Without mental health issues'], stacked=True)\n",
    "plt.xlabel('Age of shooter')\n",
    "plt.ylabel('Frequency')\n",
    "plt.title('Age distribution of school shooters with and without prior signs of mental health issues')\n",
    "plt.legend()\n",
    "plt.show()\n",
    "\n",
    "with_mental_health_issues = school_shootings[school_shootings['mental_health_issues'] == 1]\n",
    "without_mental_health_issues = school_shootings[school_shootings['mental_health_issues'] == 0]\n",
    "\n",
    "percentage_with_mental_health_issues = (len(with_mental_health_issues) / len(school_shootings)) * 100\n",
    "percentage_without_mental_health_issues = (len(without_mental_health_issues) / len(school_shootings)) * 100\n",
    "\n",
    "print(\"Percentage of school shootings with prior signs of mental health issues:\", percentage_with_mental_health_issues)\n",
    "print(\"Percentage of school shootings without prior signs of mental health issues:\", percentage_without_mental_health_issues)\n"
   ]
  },
  {
   "cell_type": "markdown",
   "id": "98674aff",
   "metadata": {},
   "source": [
    "From the plot above we can conclude that mental health issue is one of the main factor for school schooting incidents. 45% of the shooters have shown prior signs of mental health issues.\n",
    "\n",
    "The presence of mental health issues among younger individuals is increasing due to the influence of social and environmental factors, such as peer pressure, bullying, and exposure to violence or other traumatic events. Younger individuals may be more vulnerable to these types of negative influences, which could contribute to feelings of isolation, anger, or frustration that could lead to violent behavior. "
   ]
  },
  {
   "cell_type": "markdown",
   "id": "8b9b24b1",
   "metadata": {},
   "source": [
    "# Plot school shootings in the United States "
   ]
  },
  {
   "cell_type": "code",
   "execution_count": 40,
   "id": "6dff0598",
   "metadata": {},
   "outputs": [
    {
     "data": {
      "text/html": [
       "<div style=\"width:100%;\"><div style=\"position:relative;width:100%;height:0;padding-bottom:60%;\"><span style=\"color:#565656\">Make this Notebook Trusted to load map: File -> Trust Notebook</span><iframe srcdoc=\"&lt;!DOCTYPE html&gt;\n",
       "&lt;html&gt;\n",
       "&lt;head&gt;\n",
       "    \n",
       "    &lt;meta http-equiv=&quot;content-type&quot; content=&quot;text/html; charset=UTF-8&quot; /&gt;\n",
       "    \n",
       "        &lt;script&gt;\n",
       "            L_NO_TOUCH = false;\n",
       "            L_DISABLE_3D = false;\n",
       "        &lt;/script&gt;\n",
       "    \n",
       "    &lt;style&gt;html, body {width: 100%;height: 100%;margin: 0;padding: 0;}&lt;/style&gt;\n",
       "    &lt;style&gt;#map {position:absolute;top:0;bottom:0;right:0;left:0;}&lt;/style&gt;\n",
       "    &lt;script src=&quot;https://cdn.jsdelivr.net/npm/leaflet@1.9.3/dist/leaflet.js&quot;&gt;&lt;/script&gt;\n",
       "    &lt;script src=&quot;https://code.jquery.com/jquery-1.12.4.min.js&quot;&gt;&lt;/script&gt;\n",
       "    &lt;script src=&quot;https://cdn.jsdelivr.net/npm/bootstrap@5.2.2/dist/js/bootstrap.bundle.min.js&quot;&gt;&lt;/script&gt;\n",
       "    &lt;script src=&quot;https://cdnjs.cloudflare.com/ajax/libs/Leaflet.awesome-markers/2.0.2/leaflet.awesome-markers.js&quot;&gt;&lt;/script&gt;\n",
       "    &lt;link rel=&quot;stylesheet&quot; href=&quot;https://cdn.jsdelivr.net/npm/leaflet@1.9.3/dist/leaflet.css&quot;/&gt;\n",
       "    &lt;link rel=&quot;stylesheet&quot; href=&quot;https://cdn.jsdelivr.net/npm/bootstrap@5.2.2/dist/css/bootstrap.min.css&quot;/&gt;\n",
       "    &lt;link rel=&quot;stylesheet&quot; href=&quot;https://netdna.bootstrapcdn.com/bootstrap/3.0.0/css/bootstrap.min.css&quot;/&gt;\n",
       "    &lt;link rel=&quot;stylesheet&quot; href=&quot;https://cdn.jsdelivr.net/npm/@fortawesome/fontawesome-free@6.2.0/css/all.min.css&quot;/&gt;\n",
       "    &lt;link rel=&quot;stylesheet&quot; href=&quot;https://cdnjs.cloudflare.com/ajax/libs/Leaflet.awesome-markers/2.0.2/leaflet.awesome-markers.css&quot;/&gt;\n",
       "    &lt;link rel=&quot;stylesheet&quot; href=&quot;https://cdn.jsdelivr.net/gh/python-visualization/folium/folium/templates/leaflet.awesome.rotate.min.css&quot;/&gt;\n",
       "    \n",
       "            &lt;meta name=&quot;viewport&quot; content=&quot;width=device-width,\n",
       "                initial-scale=1.0, maximum-scale=1.0, user-scalable=no&quot; /&gt;\n",
       "            &lt;style&gt;\n",
       "                #map_26ab2037dcc71da280bc8277e8f8d22a {\n",
       "                    position: relative;\n",
       "                    width: 100.0%;\n",
       "                    height: 100.0%;\n",
       "                    left: 0.0%;\n",
       "                    top: 0.0%;\n",
       "                }\n",
       "                .leaflet-container { font-size: 1rem; }\n",
       "            &lt;/style&gt;\n",
       "        \n",
       "&lt;/head&gt;\n",
       "&lt;body&gt;\n",
       "    \n",
       "    \n",
       "            &lt;div class=&quot;folium-map&quot; id=&quot;map_26ab2037dcc71da280bc8277e8f8d22a&quot; &gt;&lt;/div&gt;\n",
       "        \n",
       "&lt;/body&gt;\n",
       "&lt;script&gt;\n",
       "    \n",
       "    \n",
       "            var map_26ab2037dcc71da280bc8277e8f8d22a = L.map(\n",
       "                &quot;map_26ab2037dcc71da280bc8277e8f8d22a&quot;,\n",
       "                {\n",
       "                    center: [39.8283, -98.5795],\n",
       "                    crs: L.CRS.EPSG3857,\n",
       "                    zoom: 4,\n",
       "                    zoomControl: true,\n",
       "                    preferCanvas: false,\n",
       "                }\n",
       "            );\n",
       "\n",
       "            \n",
       "\n",
       "        \n",
       "    \n",
       "            var tile_layer_99785c7211d1268c0d5e8b63f38f3288 = L.tileLayer(\n",
       "                &quot;https://{s}.tile.openstreetmap.org/{z}/{x}/{y}.png&quot;,\n",
       "                {&quot;attribution&quot;: &quot;Data by \\u0026copy; \\u003ca target=\\&quot;_blank\\&quot; href=\\&quot;http://openstreetmap.org\\&quot;\\u003eOpenStreetMap\\u003c/a\\u003e, under \\u003ca target=\\&quot;_blank\\&quot; href=\\&quot;http://www.openstreetmap.org/copyright\\&quot;\\u003eODbL\\u003c/a\\u003e.&quot;, &quot;detectRetina&quot;: false, &quot;maxNativeZoom&quot;: 18, &quot;maxZoom&quot;: 18, &quot;minZoom&quot;: 0, &quot;noWrap&quot;: false, &quot;opacity&quot;: 1, &quot;subdomains&quot;: &quot;abc&quot;, &quot;tms&quot;: false}\n",
       "            ).addTo(map_26ab2037dcc71da280bc8277e8f8d22a);\n",
       "        \n",
       "    \n",
       "            var marker_71aaf83f4134734a9abbb65cfece210c = L.marker(\n",
       "                [42.84410784, -83.25992831],\n",
       "                {}\n",
       "            ).addTo(map_26ab2037dcc71da280bc8277e8f8d22a);\n",
       "        \n",
       "    \n",
       "            var icon_3959d1f318fd8b0967bce1092b8ebb3e = L.AwesomeMarkers.icon(\n",
       "                {&quot;extraClasses&quot;: &quot;fa-rotate-0&quot;, &quot;icon&quot;: &quot;info-sign&quot;, &quot;iconColor&quot;: &quot;white&quot;, &quot;markerColor&quot;: &quot;red&quot;, &quot;prefix&quot;: &quot;glyphicon&quot;}\n",
       "            );\n",
       "            marker_71aaf83f4134734a9abbb65cfece210c.setIcon(icon_3959d1f318fd8b0967bce1092b8ebb3e);\n",
       "        \n",
       "    \n",
       "        var popup_c99703054f1db70e196babbc37f53164 = L.popup({&quot;maxWidth&quot;: 400});\n",
       "\n",
       "        \n",
       "            \n",
       "                var html_3ca38f5c6eefa5c8598e29aadf7d1e05 = $(`&lt;div id=&quot;html_3ca38f5c6eefa5c8598e29aadf7d1e05&quot; style=&quot;width: 100.0%; height: 100.0%;&quot;&gt;&lt;strong&gt;Summary:&lt;/strong&gt; Ethan Crumbley, a 15-year-old student at Oxford High School, opened fire with a Sig Sauer 9mm pistol purchased four days earlier by his father, and was apprehended by police shortly thereafter. Prosecutors filed charges against Crumbley for terrorism and first-degree murder.&lt;br&gt;&lt;strong&gt;Location:&lt;/strong&gt; Oxford, Michigan&lt;br&gt;&lt;strong&gt;Case:&lt;/strong&gt; Oxford High School shooting&lt;br&gt;&lt;strong&gt;Total Victims:&lt;/strong&gt; 11&lt;br&gt;&lt;strong&gt;Year:&lt;/strong&gt; 2021-01-01 00:00:00&lt;/div&gt;`)[0];\n",
       "                popup_c99703054f1db70e196babbc37f53164.setContent(html_3ca38f5c6eefa5c8598e29aadf7d1e05);\n",
       "            \n",
       "        \n",
       "\n",
       "        marker_71aaf83f4134734a9abbb65cfece210c.bindPopup(popup_c99703054f1db70e196babbc37f53164)\n",
       "        ;\n",
       "\n",
       "        \n",
       "    \n",
       "    \n",
       "            var marker_10b606ece0a90afce3e709e0c43547ae = L.marker(\n",
       "                [29.392825, -95.141972],\n",
       "                {}\n",
       "            ).addTo(map_26ab2037dcc71da280bc8277e8f8d22a);\n",
       "        \n",
       "    \n",
       "            var icon_f769995e6c4c11122526b3b00d6d1f7c = L.AwesomeMarkers.icon(\n",
       "                {&quot;extraClasses&quot;: &quot;fa-rotate-0&quot;, &quot;icon&quot;: &quot;info-sign&quot;, &quot;iconColor&quot;: &quot;white&quot;, &quot;markerColor&quot;: &quot;red&quot;, &quot;prefix&quot;: &quot;glyphicon&quot;}\n",
       "            );\n",
       "            marker_10b606ece0a90afce3e709e0c43547ae.setIcon(icon_f769995e6c4c11122526b3b00d6d1f7c);\n",
       "        \n",
       "    \n",
       "        var popup_478b11689db975716be622d6d1df878e = L.popup({&quot;maxWidth&quot;: 400});\n",
       "\n",
       "        \n",
       "            \n",
       "                var html_d25a5ae7060ca307864df635cb8dc40f = $(`&lt;div id=&quot;html_d25a5ae7060ca307864df635cb8dc40f&quot; style=&quot;width: 100.0%; height: 100.0%;&quot;&gt;&lt;strong&gt;Summary:&lt;/strong&gt; Dimitrios Pagourtzis, a 17-year-old student, opened fire at Santa Fe High School with a shotgun and .38 revolver owned by his father; Pagourtzis killed 10 and injured at least 13 others before surrendering to authorities after a standoff and additional gunfire inside the school. (Pagourtzis reportedly had intended to commit suicide.) Investigators also found undetonated explosive devices in the vicinity. (FURTHER DETAILS PENDING.)&lt;br&gt;&lt;strong&gt;Location:&lt;/strong&gt; Santa Fe, Texas&lt;br&gt;&lt;strong&gt;Case:&lt;/strong&gt; Santa Fe High School shooting&lt;br&gt;&lt;strong&gt;Total Victims:&lt;/strong&gt; 23&lt;br&gt;&lt;strong&gt;Year:&lt;/strong&gt; 2018-01-01 00:00:00&lt;/div&gt;`)[0];\n",
       "                popup_478b11689db975716be622d6d1df878e.setContent(html_d25a5ae7060ca307864df635cb8dc40f);\n",
       "            \n",
       "        \n",
       "\n",
       "        marker_10b606ece0a90afce3e709e0c43547ae.bindPopup(popup_478b11689db975716be622d6d1df878e)\n",
       "        ;\n",
       "\n",
       "        \n",
       "    \n",
       "    \n",
       "            var marker_b555fbe7e65e9decc20300bd78621c55 = L.marker(\n",
       "                [26.30483, -80.269511],\n",
       "                {}\n",
       "            ).addTo(map_26ab2037dcc71da280bc8277e8f8d22a);\n",
       "        \n",
       "    \n",
       "            var icon_ecafc39b4ebb2f16251fdecb79ba73c9 = L.AwesomeMarkers.icon(\n",
       "                {&quot;extraClasses&quot;: &quot;fa-rotate-0&quot;, &quot;icon&quot;: &quot;info-sign&quot;, &quot;iconColor&quot;: &quot;white&quot;, &quot;markerColor&quot;: &quot;red&quot;, &quot;prefix&quot;: &quot;glyphicon&quot;}\n",
       "            );\n",
       "            marker_b555fbe7e65e9decc20300bd78621c55.setIcon(icon_ecafc39b4ebb2f16251fdecb79ba73c9);\n",
       "        \n",
       "    \n",
       "        var popup_47b2e77fa950f351e2ff95f4bdb502ef = L.popup({&quot;maxWidth&quot;: 400});\n",
       "\n",
       "        \n",
       "            \n",
       "                var html_e2f00522816934e08fef676c63d09374 = $(`&lt;div id=&quot;html_e2f00522816934e08fef676c63d09374&quot; style=&quot;width: 100.0%; height: 100.0%;&quot;&gt;&lt;strong&gt;Summary:&lt;/strong&gt; Nikolas J. Cruz, 19, heavily armed with an AR-15, tactical gear, and “countless magazines” of ammo, according to the Broward County Sheriff, attacked the high school as classes were ending for the day, killing at least 17 people and injuring many others. He was apprehended by authorities shortly after fleeing the campus.&lt;br&gt;&lt;strong&gt;Location:&lt;/strong&gt; Parkland, Florida&lt;br&gt;&lt;strong&gt;Case:&lt;/strong&gt; Marjory Stoneman Douglas High School shooting&lt;br&gt;&lt;strong&gt;Total Victims:&lt;/strong&gt; 34&lt;br&gt;&lt;strong&gt;Year:&lt;/strong&gt; 2018-01-01 00:00:00&lt;/div&gt;`)[0];\n",
       "                popup_47b2e77fa950f351e2ff95f4bdb502ef.setContent(html_e2f00522816934e08fef676c63d09374);\n",
       "            \n",
       "        \n",
       "\n",
       "        marker_b555fbe7e65e9decc20300bd78621c55.bindPopup(popup_47b2e77fa950f351e2ff95f4bdb502ef)\n",
       "        ;\n",
       "\n",
       "        \n",
       "    \n",
       "    \n",
       "            var marker_7138252e69b6680d1e12114653a268f1 = L.marker(\n",
       "                [43.289538, -123.333193],\n",
       "                {}\n",
       "            ).addTo(map_26ab2037dcc71da280bc8277e8f8d22a);\n",
       "        \n",
       "    \n",
       "            var icon_c010394deb8504bdaddd11217bf7efc3 = L.AwesomeMarkers.icon(\n",
       "                {&quot;extraClasses&quot;: &quot;fa-rotate-0&quot;, &quot;icon&quot;: &quot;info-sign&quot;, &quot;iconColor&quot;: &quot;white&quot;, &quot;markerColor&quot;: &quot;red&quot;, &quot;prefix&quot;: &quot;glyphicon&quot;}\n",
       "            );\n",
       "            marker_7138252e69b6680d1e12114653a268f1.setIcon(icon_c010394deb8504bdaddd11217bf7efc3);\n",
       "        \n",
       "    \n",
       "        var popup_58f823f2da8b8021a0c96a973c85b820 = L.popup({&quot;maxWidth&quot;: 400});\n",
       "\n",
       "        \n",
       "            \n",
       "                var html_0334ea273f58ee26ccac24ecb24ecd40 = $(`&lt;div id=&quot;html_0334ea273f58ee26ccac24ecb24ecd40&quot; style=&quot;width: 100.0%; height: 100.0%;&quot;&gt;&lt;strong&gt;Summary:&lt;/strong&gt; 26-year-old Chris Harper Mercer opened fire at Umpqua Community College in southwest Oregon. The gunman shot himself to death after being wounded in a shootout with police.&lt;br&gt;&lt;strong&gt;Location:&lt;/strong&gt; Roseburg, Oregon&lt;br&gt;&lt;strong&gt;Case:&lt;/strong&gt; Umpqua Community College shooting&lt;br&gt;&lt;strong&gt;Total Victims:&lt;/strong&gt; 18&lt;br&gt;&lt;strong&gt;Year:&lt;/strong&gt; 2015-01-01 00:00:00&lt;/div&gt;`)[0];\n",
       "                popup_58f823f2da8b8021a0c96a973c85b820.setContent(html_0334ea273f58ee26ccac24ecb24ecd40);\n",
       "            \n",
       "        \n",
       "\n",
       "        marker_7138252e69b6680d1e12114653a268f1.bindPopup(popup_58f823f2da8b8021a0c96a973c85b820)\n",
       "        ;\n",
       "\n",
       "        \n",
       "    \n",
       "    \n",
       "            var marker_a1cd2ad325967342998be567fa8b5981 = L.marker(\n",
       "                [48.050824, -122.176918],\n",
       "                {}\n",
       "            ).addTo(map_26ab2037dcc71da280bc8277e8f8d22a);\n",
       "        \n",
       "    \n",
       "            var icon_4617238dc83577b0e6a0559d8f3e831f = L.AwesomeMarkers.icon(\n",
       "                {&quot;extraClasses&quot;: &quot;fa-rotate-0&quot;, &quot;icon&quot;: &quot;info-sign&quot;, &quot;iconColor&quot;: &quot;white&quot;, &quot;markerColor&quot;: &quot;red&quot;, &quot;prefix&quot;: &quot;glyphicon&quot;}\n",
       "            );\n",
       "            marker_a1cd2ad325967342998be567fa8b5981.setIcon(icon_4617238dc83577b0e6a0559d8f3e831f);\n",
       "        \n",
       "    \n",
       "        var popup_fc5fd3d58a35f850f2da02537daf8aa9 = L.popup({&quot;maxWidth&quot;: 400});\n",
       "\n",
       "        \n",
       "            \n",
       "                var html_da503cbb83a5634fbf11956541954c46 = $(`&lt;div id=&quot;html_da503cbb83a5634fbf11956541954c46&quot; style=&quot;width: 100.0%; height: 100.0%;&quot;&gt;&lt;strong&gt;Summary:&lt;/strong&gt; Jaylen Fryberg, 15, using a .40-caliber Berretta, shot five  students at Marysville High School, including two of his cousins and three friends, killing all but one. Fryberg arranged to meet them for lunch in the school cafeteria by text. Fryberg was reportedly well-liked at the school and there was not believed to be any ill-will between him and his victims. He committed suicide at the scene.&lt;br&gt;&lt;strong&gt;Location:&lt;/strong&gt; Marysville, Washington&lt;br&gt;&lt;strong&gt;Case:&lt;/strong&gt; Marysville-Pilchuck High School shooting&lt;br&gt;&lt;strong&gt;Total Victims:&lt;/strong&gt; 6&lt;br&gt;&lt;strong&gt;Year:&lt;/strong&gt; 2014-01-01 00:00:00&lt;/div&gt;`)[0];\n",
       "                popup_fc5fd3d58a35f850f2da02537daf8aa9.setContent(html_da503cbb83a5634fbf11956541954c46);\n",
       "            \n",
       "        \n",
       "\n",
       "        marker_a1cd2ad325967342998be567fa8b5981.bindPopup(popup_fc5fd3d58a35f850f2da02537daf8aa9)\n",
       "        ;\n",
       "\n",
       "        \n",
       "    \n",
       "    \n",
       "            var marker_3648b3acecfd6b73b93dfbe6cc1233f3 = L.marker(\n",
       "                [34.436283, -119.8714406],\n",
       "                {}\n",
       "            ).addTo(map_26ab2037dcc71da280bc8277e8f8d22a);\n",
       "        \n",
       "    \n",
       "            var icon_ae1a1dc4825bbab642151fdf933423f4 = L.AwesomeMarkers.icon(\n",
       "                {&quot;extraClasses&quot;: &quot;fa-rotate-0&quot;, &quot;icon&quot;: &quot;info-sign&quot;, &quot;iconColor&quot;: &quot;white&quot;, &quot;markerColor&quot;: &quot;red&quot;, &quot;prefix&quot;: &quot;glyphicon&quot;}\n",
       "            );\n",
       "            marker_3648b3acecfd6b73b93dfbe6cc1233f3.setIcon(icon_ae1a1dc4825bbab642151fdf933423f4);\n",
       "        \n",
       "    \n",
       "        var popup_d99f677c02617a0a9b7000dfbd9f03f0 = L.popup({&quot;maxWidth&quot;: 400});\n",
       "\n",
       "        \n",
       "            \n",
       "                var html_9a2ecf1419b2de08e9064b9e730c6533 = $(`&lt;div id=&quot;html_9a2ecf1419b2de08e9064b9e730c6533&quot; style=&quot;width: 100.0%; height: 100.0%;&quot;&gt;&lt;strong&gt;Summary:&lt;/strong&gt; Elliot Rodger, 22, shot three people to death in the college town of Isla Vista near the University of California, Santa Barbara. He also shot others as he drove around town, and injured others by striking them with is vehicle. He committed suicide by shooting himself in his car as police closed in. Prior to the rampage, Rodger stabbed three people to death at his apartment.&lt;br&gt;&lt;strong&gt;Location:&lt;/strong&gt; Santa Barbara, California&lt;br&gt;&lt;strong&gt;Case:&lt;/strong&gt; Isla Vista mass murder&lt;br&gt;&lt;strong&gt;Total Victims:&lt;/strong&gt; 19&lt;br&gt;&lt;strong&gt;Year:&lt;/strong&gt; 2014-01-01 00:00:00&lt;/div&gt;`)[0];\n",
       "                popup_d99f677c02617a0a9b7000dfbd9f03f0.setContent(html_9a2ecf1419b2de08e9064b9e730c6533);\n",
       "            \n",
       "        \n",
       "\n",
       "        marker_3648b3acecfd6b73b93dfbe6cc1233f3.bindPopup(popup_d99f677c02617a0a9b7000dfbd9f03f0)\n",
       "        ;\n",
       "\n",
       "        \n",
       "    \n",
       "    \n",
       "            var marker_b685882fb8392f89a1d11d719059138b = L.marker(\n",
       "                [41.4123225, -73.31142358],\n",
       "                {}\n",
       "            ).addTo(map_26ab2037dcc71da280bc8277e8f8d22a);\n",
       "        \n",
       "    \n",
       "            var icon_e67efda775cc3e9e9bf67a50578a374a = L.AwesomeMarkers.icon(\n",
       "                {&quot;extraClasses&quot;: &quot;fa-rotate-0&quot;, &quot;icon&quot;: &quot;info-sign&quot;, &quot;iconColor&quot;: &quot;white&quot;, &quot;markerColor&quot;: &quot;red&quot;, &quot;prefix&quot;: &quot;glyphicon&quot;}\n",
       "            );\n",
       "            marker_b685882fb8392f89a1d11d719059138b.setIcon(icon_e67efda775cc3e9e9bf67a50578a374a);\n",
       "        \n",
       "    \n",
       "        var popup_0012601b379b0884cf9e5b8197852a82 = L.popup({&quot;maxWidth&quot;: 400});\n",
       "\n",
       "        \n",
       "            \n",
       "                var html_492bfd338668708aed1f39b9ffc1d5b6 = $(`&lt;div id=&quot;html_492bfd338668708aed1f39b9ffc1d5b6&quot; style=&quot;width: 100.0%; height: 100.0%;&quot;&gt;&lt;strong&gt;Summary:&lt;/strong&gt; Adam Lanza, 20, shot his mother dead at their home then drove to Sandy Hook Elementary school. He forced his way inside and opened fire, killing 20 children and six adults before committing suicide.&lt;br&gt;&lt;strong&gt;Location:&lt;/strong&gt; Newtown, Connecticut&lt;br&gt;&lt;strong&gt;Case:&lt;/strong&gt; Sandy Hook Elementary massacre&lt;br&gt;&lt;strong&gt;Total Victims:&lt;/strong&gt; 29&lt;br&gt;&lt;strong&gt;Year:&lt;/strong&gt; 2012-01-01 00:00:00&lt;/div&gt;`)[0];\n",
       "                popup_0012601b379b0884cf9e5b8197852a82.setContent(html_492bfd338668708aed1f39b9ffc1d5b6);\n",
       "            \n",
       "        \n",
       "\n",
       "        marker_b685882fb8392f89a1d11d719059138b.bindPopup(popup_0012601b379b0884cf9e5b8197852a82)\n",
       "        ;\n",
       "\n",
       "        \n",
       "    \n",
       "    \n",
       "            var marker_1db9936d04b990d089915f52426095fc = L.marker(\n",
       "                [37.8043808, -122.2708166],\n",
       "                {}\n",
       "            ).addTo(map_26ab2037dcc71da280bc8277e8f8d22a);\n",
       "        \n",
       "    \n",
       "            var icon_b3a2cb99d4b68748c41d871bad6c83de = L.AwesomeMarkers.icon(\n",
       "                {&quot;extraClasses&quot;: &quot;fa-rotate-0&quot;, &quot;icon&quot;: &quot;info-sign&quot;, &quot;iconColor&quot;: &quot;white&quot;, &quot;markerColor&quot;: &quot;red&quot;, &quot;prefix&quot;: &quot;glyphicon&quot;}\n",
       "            );\n",
       "            marker_1db9936d04b990d089915f52426095fc.setIcon(icon_b3a2cb99d4b68748c41d871bad6c83de);\n",
       "        \n",
       "    \n",
       "        var popup_76b80239e60323319ba38ff13f6ee033 = L.popup({&quot;maxWidth&quot;: 400});\n",
       "\n",
       "        \n",
       "            \n",
       "                var html_e50ce9e883cfc01c9c1ecac3912aea6f = $(`&lt;div id=&quot;html_e50ce9e883cfc01c9c1ecac3912aea6f&quot; style=&quot;width: 100.0%; height: 100.0%;&quot;&gt;&lt;strong&gt;Summary:&lt;/strong&gt; One L. Goh, 43, a former student, opened fire in a nursing classroom. He fled the scene by car and was arrested nearby a few hours later.&lt;br&gt;&lt;strong&gt;Location:&lt;/strong&gt; Oakland, California&lt;br&gt;&lt;strong&gt;Case:&lt;/strong&gt; Oikos University killings&lt;br&gt;&lt;strong&gt;Total Victims:&lt;/strong&gt; 10&lt;br&gt;&lt;strong&gt;Year:&lt;/strong&gt; 2012-01-01 00:00:00&lt;/div&gt;`)[0];\n",
       "                popup_76b80239e60323319ba38ff13f6ee033.setContent(html_e50ce9e883cfc01c9c1ecac3912aea6f);\n",
       "            \n",
       "        \n",
       "\n",
       "        marker_1db9936d04b990d089915f52426095fc.bindPopup(popup_76b80239e60323319ba38ff13f6ee033)\n",
       "        ;\n",
       "\n",
       "        \n",
       "    \n",
       "    \n",
       "            var marker_6f4a5cf6ac2d8b60cbe1e6366e8a0da6 = L.marker(\n",
       "                [41.9294736, -88.7503647],\n",
       "                {}\n",
       "            ).addTo(map_26ab2037dcc71da280bc8277e8f8d22a);\n",
       "        \n",
       "    \n",
       "            var icon_a3addd1999c6493a87cb6d49389608ce = L.AwesomeMarkers.icon(\n",
       "                {&quot;extraClasses&quot;: &quot;fa-rotate-0&quot;, &quot;icon&quot;: &quot;info-sign&quot;, &quot;iconColor&quot;: &quot;white&quot;, &quot;markerColor&quot;: &quot;red&quot;, &quot;prefix&quot;: &quot;glyphicon&quot;}\n",
       "            );\n",
       "            marker_6f4a5cf6ac2d8b60cbe1e6366e8a0da6.setIcon(icon_a3addd1999c6493a87cb6d49389608ce);\n",
       "        \n",
       "    \n",
       "        var popup_2f7319320355a9f2237bf354a15b4a97 = L.popup({&quot;maxWidth&quot;: 400});\n",
       "\n",
       "        \n",
       "            \n",
       "                var html_d6418215139f94c19d62b0f036a1cc65 = $(`&lt;div id=&quot;html_d6418215139f94c19d62b0f036a1cc65&quot; style=&quot;width: 100.0%; height: 100.0%;&quot;&gt;&lt;strong&gt;Summary:&lt;/strong&gt; Steven Kazmierczak, 27, opened fire in a lecture hall, then shot and killed himself before police arrived.&lt;br&gt;&lt;strong&gt;Location:&lt;/strong&gt; DeKalb, Illinois&lt;br&gt;&lt;strong&gt;Case:&lt;/strong&gt; Northern Illinois University shooting&lt;br&gt;&lt;strong&gt;Total Victims:&lt;/strong&gt; 26&lt;br&gt;&lt;strong&gt;Year:&lt;/strong&gt; 2008-01-01 00:00:00&lt;/div&gt;`)[0];\n",
       "                popup_2f7319320355a9f2237bf354a15b4a97.setContent(html_d6418215139f94c19d62b0f036a1cc65);\n",
       "            \n",
       "        \n",
       "\n",
       "        marker_6f4a5cf6ac2d8b60cbe1e6366e8a0da6.bindPopup(popup_2f7319320355a9f2237bf354a15b4a97)\n",
       "        ;\n",
       "\n",
       "        \n",
       "    \n",
       "    \n",
       "            var marker_4a762625804c2c7eea4003c452353cd7 = L.marker(\n",
       "                [37.2295733, -80.4139393],\n",
       "                {}\n",
       "            ).addTo(map_26ab2037dcc71da280bc8277e8f8d22a);\n",
       "        \n",
       "    \n",
       "            var icon_8c548ddd285e988e7ba41bbc8706a50c = L.AwesomeMarkers.icon(\n",
       "                {&quot;extraClasses&quot;: &quot;fa-rotate-0&quot;, &quot;icon&quot;: &quot;info-sign&quot;, &quot;iconColor&quot;: &quot;white&quot;, &quot;markerColor&quot;: &quot;red&quot;, &quot;prefix&quot;: &quot;glyphicon&quot;}\n",
       "            );\n",
       "            marker_4a762625804c2c7eea4003c452353cd7.setIcon(icon_8c548ddd285e988e7ba41bbc8706a50c);\n",
       "        \n",
       "    \n",
       "        var popup_984157ef19963da1e04022adc77c1790 = L.popup({&quot;maxWidth&quot;: 400});\n",
       "\n",
       "        \n",
       "            \n",
       "                var html_b41739710d9a1f9264af4fc33fe56b76 = $(`&lt;div id=&quot;html_b41739710d9a1f9264af4fc33fe56b76&quot; style=&quot;width: 100.0%; height: 100.0%;&quot;&gt;&lt;strong&gt;Summary:&lt;/strong&gt; Virginia Tech student Seung-Hui Cho, 23, opened fire on his school&#x27;s campus before committing suicide.&lt;br&gt;&lt;strong&gt;Location:&lt;/strong&gt; Blacksburg, Virginia&lt;br&gt;&lt;strong&gt;Case:&lt;/strong&gt; Virginia Tech massacre&lt;br&gt;&lt;strong&gt;Total Victims:&lt;/strong&gt; 55&lt;br&gt;&lt;strong&gt;Year:&lt;/strong&gt; 2007-01-01 00:00:00&lt;/div&gt;`)[0];\n",
       "                popup_984157ef19963da1e04022adc77c1790.setContent(html_b41739710d9a1f9264af4fc33fe56b76);\n",
       "            \n",
       "        \n",
       "\n",
       "        marker_4a762625804c2c7eea4003c452353cd7.bindPopup(popup_984157ef19963da1e04022adc77c1790)\n",
       "        ;\n",
       "\n",
       "        \n",
       "    \n",
       "    \n",
       "            var marker_38782b48b7e16a9011698ac474080d98 = L.marker(\n",
       "                [39.9589, -76.0806],\n",
       "                {}\n",
       "            ).addTo(map_26ab2037dcc71da280bc8277e8f8d22a);\n",
       "        \n",
       "    \n",
       "            var icon_f7754668bbde4108d3e9ca40283b8493 = L.AwesomeMarkers.icon(\n",
       "                {&quot;extraClasses&quot;: &quot;fa-rotate-0&quot;, &quot;icon&quot;: &quot;info-sign&quot;, &quot;iconColor&quot;: &quot;white&quot;, &quot;markerColor&quot;: &quot;red&quot;, &quot;prefix&quot;: &quot;glyphicon&quot;}\n",
       "            );\n",
       "            marker_38782b48b7e16a9011698ac474080d98.setIcon(icon_f7754668bbde4108d3e9ca40283b8493);\n",
       "        \n",
       "    \n",
       "        var popup_9b9c3d15de4753254a5833b0bc7f5c73 = L.popup({&quot;maxWidth&quot;: 400});\n",
       "\n",
       "        \n",
       "            \n",
       "                var html_2aaa84acbbcbf7352e6128ecccc3a242 = $(`&lt;div id=&quot;html_2aaa84acbbcbf7352e6128ecccc3a242&quot; style=&quot;width: 100.0%; height: 100.0%;&quot;&gt;&lt;strong&gt;Summary:&lt;/strong&gt; Charles Carl Roberts, 32, shot 10 young girls in a one-room schoolhouse in Bart Township, killing 5, before taking his own life.&lt;br&gt;&lt;strong&gt;Location:&lt;/strong&gt; Lancaster County, Pennsylvania&lt;br&gt;&lt;strong&gt;Case:&lt;/strong&gt; Amish school shooting&lt;br&gt;&lt;strong&gt;Total Victims:&lt;/strong&gt; 11&lt;br&gt;&lt;strong&gt;Year:&lt;/strong&gt; 2006-01-01 00:00:00&lt;/div&gt;`)[0];\n",
       "                popup_9b9c3d15de4753254a5833b0bc7f5c73.setContent(html_2aaa84acbbcbf7352e6128ecccc3a242);\n",
       "            \n",
       "        \n",
       "\n",
       "        marker_38782b48b7e16a9011698ac474080d98.bindPopup(popup_9b9c3d15de4753254a5833b0bc7f5c73)\n",
       "        ;\n",
       "\n",
       "        \n",
       "    \n",
       "    \n",
       "            var marker_b70c53732b25bd0f36dadf411596a24f = L.marker(\n",
       "                [47.876346, -95.0169401],\n",
       "                {}\n",
       "            ).addTo(map_26ab2037dcc71da280bc8277e8f8d22a);\n",
       "        \n",
       "    \n",
       "            var icon_b675008547cb9f8a70567ee81916daab = L.AwesomeMarkers.icon(\n",
       "                {&quot;extraClasses&quot;: &quot;fa-rotate-0&quot;, &quot;icon&quot;: &quot;info-sign&quot;, &quot;iconColor&quot;: &quot;white&quot;, &quot;markerColor&quot;: &quot;red&quot;, &quot;prefix&quot;: &quot;glyphicon&quot;}\n",
       "            );\n",
       "            marker_b70c53732b25bd0f36dadf411596a24f.setIcon(icon_b675008547cb9f8a70567ee81916daab);\n",
       "        \n",
       "    \n",
       "        var popup_d40627273c43980e521a5aaa749bb187 = L.popup({&quot;maxWidth&quot;: 400});\n",
       "\n",
       "        \n",
       "            \n",
       "                var html_eb020387ef664d07ab8be279a83863aa = $(`&lt;div id=&quot;html_eb020387ef664d07ab8be279a83863aa&quot; style=&quot;width: 100.0%; height: 100.0%;&quot;&gt;&lt;strong&gt;Summary:&lt;/strong&gt; Jeffrey Weise, 16, murdered his grandfather, who was a police officer, and grandfather&#x27;s girlfriend. Weise then drove his grandfather&#x27;s squad car to Red Lake Senior High School and opened fire on the reservation campus, killing another seven people before committing suicide.&lt;br&gt;&lt;strong&gt;Location:&lt;/strong&gt; Red Lake, Minnesota&lt;br&gt;&lt;strong&gt;Case:&lt;/strong&gt; Red Lake massacre&lt;br&gt;&lt;strong&gt;Total Victims:&lt;/strong&gt; 15&lt;br&gt;&lt;strong&gt;Year:&lt;/strong&gt; 2005-01-01 00:00:00&lt;/div&gt;`)[0];\n",
       "                popup_d40627273c43980e521a5aaa749bb187.setContent(html_eb020387ef664d07ab8be279a83863aa);\n",
       "            \n",
       "        \n",
       "\n",
       "        marker_b70c53732b25bd0f36dadf411596a24f.bindPopup(popup_d40627273c43980e521a5aaa749bb187)\n",
       "        ;\n",
       "\n",
       "        \n",
       "    \n",
       "    \n",
       "            var marker_74f752b303efa73629a7da00d0b35a3e = L.marker(\n",
       "                [39.604034, -105.074103],\n",
       "                {}\n",
       "            ).addTo(map_26ab2037dcc71da280bc8277e8f8d22a);\n",
       "        \n",
       "    \n",
       "            var icon_c145f5a8177c5ae2a5dbc1abc784e463 = L.AwesomeMarkers.icon(\n",
       "                {&quot;extraClasses&quot;: &quot;fa-rotate-0&quot;, &quot;icon&quot;: &quot;info-sign&quot;, &quot;iconColor&quot;: &quot;white&quot;, &quot;markerColor&quot;: &quot;red&quot;, &quot;prefix&quot;: &quot;glyphicon&quot;}\n",
       "            );\n",
       "            marker_74f752b303efa73629a7da00d0b35a3e.setIcon(icon_c145f5a8177c5ae2a5dbc1abc784e463);\n",
       "        \n",
       "    \n",
       "        var popup_addcf77cd34ff23657cd60c960cb02d7 = L.popup({&quot;maxWidth&quot;: 400});\n",
       "\n",
       "        \n",
       "            \n",
       "                var html_6b23d3d7a7abb928ee8def70d2905e52 = $(`&lt;div id=&quot;html_6b23d3d7a7abb928ee8def70d2905e52&quot; style=&quot;width: 100.0%; height: 100.0%;&quot;&gt;&lt;strong&gt;Summary:&lt;/strong&gt; Eric Harris, 18, and Dylan Klebold, 17, opened fire throughout Columbine High School before committing suicide.&lt;br&gt;&lt;strong&gt;Location:&lt;/strong&gt; Littleton, Colorado&lt;br&gt;&lt;strong&gt;Case:&lt;/strong&gt; Columbine High School massacre&lt;br&gt;&lt;strong&gt;Total Victims:&lt;/strong&gt; 37&lt;br&gt;&lt;strong&gt;Year:&lt;/strong&gt; 1999-01-01 00:00:00&lt;/div&gt;`)[0];\n",
       "                popup_addcf77cd34ff23657cd60c960cb02d7.setContent(html_6b23d3d7a7abb928ee8def70d2905e52);\n",
       "            \n",
       "        \n",
       "\n",
       "        marker_74f752b303efa73629a7da00d0b35a3e.bindPopup(popup_addcf77cd34ff23657cd60c960cb02d7)\n",
       "        ;\n",
       "\n",
       "        \n",
       "    \n",
       "    \n",
       "            var marker_7ddaa425244b27df97b238bdcd0be1ec = L.marker(\n",
       "                [44.0462362, -123.0220289],\n",
       "                {}\n",
       "            ).addTo(map_26ab2037dcc71da280bc8277e8f8d22a);\n",
       "        \n",
       "    \n",
       "            var icon_0aa005d7d2e8e74f4b70e6b6802e31d9 = L.AwesomeMarkers.icon(\n",
       "                {&quot;extraClasses&quot;: &quot;fa-rotate-0&quot;, &quot;icon&quot;: &quot;info-sign&quot;, &quot;iconColor&quot;: &quot;white&quot;, &quot;markerColor&quot;: &quot;red&quot;, &quot;prefix&quot;: &quot;glyphicon&quot;}\n",
       "            );\n",
       "            marker_7ddaa425244b27df97b238bdcd0be1ec.setIcon(icon_0aa005d7d2e8e74f4b70e6b6802e31d9);\n",
       "        \n",
       "    \n",
       "        var popup_20a565173d660c1c311f5d27b7808db7 = L.popup({&quot;maxWidth&quot;: 400});\n",
       "\n",
       "        \n",
       "            \n",
       "                var html_8acc8c54bd12e10fd7eb0916b2ff3ec0 = $(`&lt;div id=&quot;html_8acc8c54bd12e10fd7eb0916b2ff3ec0&quot; style=&quot;width: 100.0%; height: 100.0%;&quot;&gt;&lt;strong&gt;Summary:&lt;/strong&gt; After he was expelled for having a gun in his locker, Kipland P. Kinkel, 15, a freshman at Thurston High, went on a shooting spree, killing his parents at home and two students at school. Five classmates wrestled Kipland to the ground before he was arrested.   &lt;br&gt;&lt;strong&gt;Location:&lt;/strong&gt; Springfield, Oregon&lt;br&gt;&lt;strong&gt;Case:&lt;/strong&gt; Thurston High School shooting&lt;br&gt;&lt;strong&gt;Total Victims:&lt;/strong&gt; 29&lt;br&gt;&lt;strong&gt;Year:&lt;/strong&gt; 1998-01-01 00:00:00&lt;/div&gt;`)[0];\n",
       "                popup_20a565173d660c1c311f5d27b7808db7.setContent(html_8acc8c54bd12e10fd7eb0916b2ff3ec0);\n",
       "            \n",
       "        \n",
       "\n",
       "        marker_7ddaa425244b27df97b238bdcd0be1ec.bindPopup(popup_20a565173d660c1c311f5d27b7808db7)\n",
       "        ;\n",
       "\n",
       "        \n",
       "    \n",
       "    \n",
       "            var marker_c3c7292c52ac470e21efb0b005e5fa28 = L.marker(\n",
       "                [35.8209895, -90.6682606],\n",
       "                {}\n",
       "            ).addTo(map_26ab2037dcc71da280bc8277e8f8d22a);\n",
       "        \n",
       "    \n",
       "            var icon_4de35fa2fcc5003a9aac57541263ffd8 = L.AwesomeMarkers.icon(\n",
       "                {&quot;extraClasses&quot;: &quot;fa-rotate-0&quot;, &quot;icon&quot;: &quot;info-sign&quot;, &quot;iconColor&quot;: &quot;white&quot;, &quot;markerColor&quot;: &quot;red&quot;, &quot;prefix&quot;: &quot;glyphicon&quot;}\n",
       "            );\n",
       "            marker_c3c7292c52ac470e21efb0b005e5fa28.setIcon(icon_4de35fa2fcc5003a9aac57541263ffd8);\n",
       "        \n",
       "    \n",
       "        var popup_a5bc04d624cb575b40edd8299dee9dac = L.popup({&quot;maxWidth&quot;: 400});\n",
       "\n",
       "        \n",
       "            \n",
       "                var html_66ef9cfa4ca6191b3ccc084e01f208d6 = $(`&lt;div id=&quot;html_66ef9cfa4ca6191b3ccc084e01f208d6&quot; style=&quot;width: 100.0%; height: 100.0%;&quot;&gt;&lt;strong&gt;Summary:&lt;/strong&gt; Mitchell Scott Johnson, 13, and Andrew Douglas Golden, 11, two juveniles, ambushed students and teachers as they left the school; they were apprehended by police at the scene.&lt;br&gt;&lt;strong&gt;Location:&lt;/strong&gt; Jonesboro, Arkansas&lt;br&gt;&lt;strong&gt;Case:&lt;/strong&gt; Westside Middle School killings&lt;br&gt;&lt;strong&gt;Total Victims:&lt;/strong&gt; 15&lt;br&gt;&lt;strong&gt;Year:&lt;/strong&gt; 1998-01-01 00:00:00&lt;/div&gt;`)[0];\n",
       "                popup_a5bc04d624cb575b40edd8299dee9dac.setContent(html_66ef9cfa4ca6191b3ccc084e01f208d6);\n",
       "            \n",
       "        \n",
       "\n",
       "        marker_c3c7292c52ac470e21efb0b005e5fa28.bindPopup(popup_a5bc04d624cb575b40edd8299dee9dac)\n",
       "        ;\n",
       "\n",
       "        \n",
       "    \n",
       "    \n",
       "            var marker_3f2663576a6467d68e660ed8fae3c06d = L.marker(\n",
       "                [39.07868761, -121.5475762],\n",
       "                {}\n",
       "            ).addTo(map_26ab2037dcc71da280bc8277e8f8d22a);\n",
       "        \n",
       "    \n",
       "            var icon_cdd600cf5768930c89e49d266d0c6eba = L.AwesomeMarkers.icon(\n",
       "                {&quot;extraClasses&quot;: &quot;fa-rotate-0&quot;, &quot;icon&quot;: &quot;info-sign&quot;, &quot;iconColor&quot;: &quot;white&quot;, &quot;markerColor&quot;: &quot;red&quot;, &quot;prefix&quot;: &quot;glyphicon&quot;}\n",
       "            );\n",
       "            marker_3f2663576a6467d68e660ed8fae3c06d.setIcon(icon_cdd600cf5768930c89e49d266d0c6eba);\n",
       "        \n",
       "    \n",
       "        var popup_0c3bea6a5526460ec4dbc72e632ccb88 = L.popup({&quot;maxWidth&quot;: 400});\n",
       "\n",
       "        \n",
       "            \n",
       "                var html_aa31f8d307c3ff3a480dea4c9f6a5931 = $(`&lt;div id=&quot;html_aa31f8d307c3ff3a480dea4c9f6a5931&quot; style=&quot;width: 100.0%; height: 100.0%;&quot;&gt;&lt;strong&gt;Summary:&lt;/strong&gt; Former Lindhurst High School student Eric Houston, 20, angry about various personal failings, killed three students and a teacher at the school before surrendering to police after an eight-hour standoff. He was later sentenced to death.&lt;br&gt;&lt;strong&gt;Location:&lt;/strong&gt; Olivehurst, California&lt;br&gt;&lt;strong&gt;Case:&lt;/strong&gt; Lindhurst High School shooting&lt;br&gt;&lt;strong&gt;Total Victims:&lt;/strong&gt; 14&lt;br&gt;&lt;strong&gt;Year:&lt;/strong&gt; 1992-01-01 00:00:00&lt;/div&gt;`)[0];\n",
       "                popup_0c3bea6a5526460ec4dbc72e632ccb88.setContent(html_aa31f8d307c3ff3a480dea4c9f6a5931);\n",
       "            \n",
       "        \n",
       "\n",
       "        marker_3f2663576a6467d68e660ed8fae3c06d.bindPopup(popup_0c3bea6a5526460ec4dbc72e632ccb88)\n",
       "        ;\n",
       "\n",
       "        \n",
       "    \n",
       "    \n",
       "            var marker_af47e2721f55627d8333682756c0a837 = L.marker(\n",
       "                [41.6606893, -91.5302214],\n",
       "                {}\n",
       "            ).addTo(map_26ab2037dcc71da280bc8277e8f8d22a);\n",
       "        \n",
       "    \n",
       "            var icon_804edd932dd60624b9013565bacc8fb6 = L.AwesomeMarkers.icon(\n",
       "                {&quot;extraClasses&quot;: &quot;fa-rotate-0&quot;, &quot;icon&quot;: &quot;info-sign&quot;, &quot;iconColor&quot;: &quot;white&quot;, &quot;markerColor&quot;: &quot;red&quot;, &quot;prefix&quot;: &quot;glyphicon&quot;}\n",
       "            );\n",
       "            marker_af47e2721f55627d8333682756c0a837.setIcon(icon_804edd932dd60624b9013565bacc8fb6);\n",
       "        \n",
       "    \n",
       "        var popup_bb04e3fb9d0cc384ee450f85be192b08 = L.popup({&quot;maxWidth&quot;: 400});\n",
       "\n",
       "        \n",
       "            \n",
       "                var html_50d811700c7f5aa5fbf3d89a05b478b8 = $(`&lt;div id=&quot;html_50d811700c7f5aa5fbf3d89a05b478b8&quot; style=&quot;width: 100.0%; height: 100.0%;&quot;&gt;&lt;strong&gt;Summary:&lt;/strong&gt; Former graduate student Gang Lu, 28, went on a rampage on campus and then committed suicide at the scene.&lt;br&gt;&lt;strong&gt;Location:&lt;/strong&gt; Iowa City, Iowa&lt;br&gt;&lt;strong&gt;Case:&lt;/strong&gt; University of Iowa shooting&lt;br&gt;&lt;strong&gt;Total Victims:&lt;/strong&gt; 7&lt;br&gt;&lt;strong&gt;Year:&lt;/strong&gt; 1991-01-01 00:00:00&lt;/div&gt;`)[0];\n",
       "                popup_bb04e3fb9d0cc384ee450f85be192b08.setContent(html_50d811700c7f5aa5fbf3d89a05b478b8);\n",
       "            \n",
       "        \n",
       "\n",
       "        marker_af47e2721f55627d8333682756c0a837.bindPopup(popup_bb04e3fb9d0cc384ee450f85be192b08)\n",
       "        ;\n",
       "\n",
       "        \n",
       "    \n",
       "    \n",
       "            var marker_d360c8aff34e08b9793b9c40f763679d = L.marker(\n",
       "                [37.9577016, -121.2907796],\n",
       "                {}\n",
       "            ).addTo(map_26ab2037dcc71da280bc8277e8f8d22a);\n",
       "        \n",
       "    \n",
       "            var icon_6a20e37d7306cb11b39f665324a58180 = L.AwesomeMarkers.icon(\n",
       "                {&quot;extraClasses&quot;: &quot;fa-rotate-0&quot;, &quot;icon&quot;: &quot;info-sign&quot;, &quot;iconColor&quot;: &quot;white&quot;, &quot;markerColor&quot;: &quot;red&quot;, &quot;prefix&quot;: &quot;glyphicon&quot;}\n",
       "            );\n",
       "            marker_d360c8aff34e08b9793b9c40f763679d.setIcon(icon_6a20e37d7306cb11b39f665324a58180);\n",
       "        \n",
       "    \n",
       "        var popup_c9abba7244e98a383c4a2a2cb73e73d1 = L.popup({&quot;maxWidth&quot;: 400});\n",
       "\n",
       "        \n",
       "            \n",
       "                var html_04f858745f7eba5422038ff482d51117 = $(`&lt;div id=&quot;html_04f858745f7eba5422038ff482d51117&quot; style=&quot;width: 100.0%; height: 100.0%;&quot;&gt;&lt;strong&gt;Summary:&lt;/strong&gt; Patrick Purdy, 26, an alcoholic with a police record, launched an assault at Cleveland Elementary School, where many young Southeast Asian immigrants were enrolled. Purdy killed himself with a shot to the head.&lt;br&gt;&lt;strong&gt;Location:&lt;/strong&gt; Stockton, California&lt;br&gt;&lt;strong&gt;Case:&lt;/strong&gt; Stockton schoolyard shooting&lt;br&gt;&lt;strong&gt;Total Victims:&lt;/strong&gt; 35&lt;br&gt;&lt;strong&gt;Year:&lt;/strong&gt; 1989-01-01 00:00:00&lt;/div&gt;`)[0];\n",
       "                popup_c9abba7244e98a383c4a2a2cb73e73d1.setContent(html_04f858745f7eba5422038ff482d51117);\n",
       "            \n",
       "        \n",
       "\n",
       "        marker_d360c8aff34e08b9793b9c40f763679d.bindPopup(popup_c9abba7244e98a383c4a2a2cb73e73d1)\n",
       "        ;\n",
       "\n",
       "        \n",
       "    \n",
       "&lt;/script&gt;\n",
       "&lt;/html&gt;\" style=\"position:absolute;width:100%;height:100%;left:0;top:0;border:none !important;\" allowfullscreen webkitallowfullscreen mozallowfullscreen></iframe></div></div>"
      ],
      "text/plain": [
       "<folium.folium.Map at 0x1df79001100>"
      ]
     },
     "execution_count": 40,
     "metadata": {},
     "output_type": "execute_result"
    }
   ],
   "source": [
    "school_shootings = ShootingDf[ShootingDf['location.1'] == 'School']\n",
    "locations = school_shootings.dropna(subset=['latitude', 'longitude'])\n",
    "m = folium.Map(location=[39.8283, -98.5795], zoom_start=4)\n",
    "for index, row in locations.iterrows():\n",
    "    popup_html = \"<strong>{}:</strong> {}<br><strong>{}:</strong> {}<br><strong>{}:</strong> {}<br><strong>{}:</strong> {}<br><strong>{}:</strong> {}\".format(\"Summary\", row[\"summary\"],\"Location\", row[\"location\"],\"Case\", row[\"case\"], \"Total Victims\", row[\"total_victims\"],\"Year\", row[\"year\"])\n",
    "    popup = folium.Popup(popup_html, max_width=400)\n",
    "    folium.Marker([row['latitude'], row['longitude']], popup=popup, icon=folium.Icon(color='red')).add_to(m)\n",
    "    \n",
    "m\n"
   ]
  },
  {
   "cell_type": "markdown",
   "id": "10a4cdc4",
   "metadata": {},
   "source": [
    "# Conclusion and Summary"
   ]
  },
  {
   "cell_type": "markdown",
   "id": "963534b0",
   "metadata": {},
   "source": [
    "From the analysis above, one can conclude that California is not only the state with the highest number of school shooting incidents, but it also accounts for the highest rate of victims. \n"
   ]
  },
  {
   "cell_type": "markdown",
   "id": "618200c8",
   "metadata": {},
   "source": [
    "We were also able to conclude that mental health issue is one of the main factor for school schooting incidents. About 45% of the shooters have shown prior signs of mental health issues. "
   ]
  },
  {
   "cell_type": "markdown",
   "id": "3c4dc8c3",
   "metadata": {},
   "source": [
    "In this analysis, we only looked at the top 10 states with the highest number of school shooting incidents and the number of victims in those states. To draw a more accurate conclusion, we would need to calculate the rate of victims per capita for all states and compare them."
   ]
  },
  {
   "cell_type": "markdown",
   "id": "b72b3a4d",
   "metadata": {},
   "source": [
    "It is important to note that the dataset used in the analysis only includes school shootings where there were victims, but there may be incidents where there were no injuries or fatalities. To conduct a more comprehensive analysis, it would be important to research further to include all incidents, regardless of whether or not someone suffered physical injury. Additionally, it may be useful to consider other factors such as the motive of the shooter and the type of weapon used to gain a deeper understanding of school shootings."
   ]
  },
  {
   "cell_type": "code",
   "execution_count": null,
   "id": "6c8802bb",
   "metadata": {},
   "outputs": [],
   "source": []
  }
 ],
 "metadata": {
  "kernelspec": {
   "display_name": "Python 3 (ipykernel)",
   "language": "python",
   "name": "python3"
  },
  "language_info": {
   "codemirror_mode": {
    "name": "ipython",
    "version": 3
   },
   "file_extension": ".py",
   "mimetype": "text/x-python",
   "name": "python",
   "nbconvert_exporter": "python",
   "pygments_lexer": "ipython3",
   "version": "3.9.12"
  }
 },
 "nbformat": 4,
 "nbformat_minor": 5
}
