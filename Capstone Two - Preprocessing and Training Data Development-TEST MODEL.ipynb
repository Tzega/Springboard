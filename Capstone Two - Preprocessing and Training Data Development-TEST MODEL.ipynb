{
 "cells": [
  {
   "cell_type": "markdown",
   "id": "cefd19ac",
   "metadata": {},
   "source": [
    "# Capstone Two: Preprocessing and Training Data Development"
   ]
  },
  {
   "cell_type": "markdown",
   "id": "a29e5917",
   "metadata": {},
   "source": [
    "# Imports"
   ]
  },
  {
   "cell_type": "code",
   "execution_count": 35,
   "id": "2d3e58fe",
   "metadata": {},
   "outputs": [],
   "source": [
    "import pandas as pd\n",
    "import numpy as np\n",
    "import os\n",
    "import matplotlib.pyplot as plt\n",
    "import seaborn as sns\n",
    "from sklearn.decomposition import PCA\n",
    "from sklearn.preprocessing import scale\n",
    "from sklearn import preprocessing\n",
    "from sklearn.model_selection import KFold\n",
    "from sklearn.linear_model import LogisticRegression\n",
    "from sklearn.metrics import accuracy_score, f1_score\n",
    "from sklearn.metrics import classification_report\n",
    "from sklearn.metrics import confusion_matrix\n",
    "from sklearn.metrics import ConfusionMatrixDisplay\n",
    "import scipy.stats as stats\n",
    "import folium\n",
    "\n",
    "from library.sb_utils import save_file"
   ]
  },
  {
   "cell_type": "code",
   "execution_count": 2,
   "id": "c5dd4317",
   "metadata": {},
   "outputs": [],
   "source": [
    "df = pd.read_csv('../data/traffic_data_step3_features.csv')\n"
   ]
  },
  {
   "cell_type": "code",
   "execution_count": 3,
   "id": "be97676a",
   "metadata": {},
   "outputs": [
    {
     "data": {
      "text/plain": [
       "(199999, 38)"
      ]
     },
     "execution_count": 3,
     "metadata": {},
     "output_type": "execute_result"
    }
   ],
   "source": [
    "df.shape"
   ]
  },
  {
   "cell_type": "markdown",
   "id": "63166b96",
   "metadata": {},
   "source": [
    "# Creating dummy features"
   ]
  },
  {
   "cell_type": "code",
   "execution_count": 4,
   "id": "671fda97",
   "metadata": {},
   "outputs": [
    {
     "name": "stdout",
     "output_type": "stream",
     "text": [
      "Categorical columns:\n",
      "['CRASH_RECORD_ID', 'CRASH_DATE', 'TRAFFIC_CONTROL_DEVICE', 'DEVICE_CONDITION', 'WEATHER_CONDITION', 'LIGHTING_CONDITION', 'FIRST_CRASH_TYPE', 'TRAFFICWAY_TYPE', 'ALIGNMENT', 'ROADWAY_SURFACE_COND', 'ROAD_DEFECT', 'REPORT_TYPE', 'CRASH_TYPE', 'DAMAGE', 'DATE_POLICE_NOTIFIED', 'PRIM_CONTRIBUTORY_CAUSE', 'SEC_CONTRIBUTORY_CAUSE', 'STREET_DIRECTION', 'STREET_NAME', 'MOST_SEVERE_INJURY', 'LOCATION']\n"
     ]
    }
   ],
   "source": [
    "cat_cols = df.select_dtypes(include=['object']).columns.tolist()\n",
    "\n",
    "# Print the list of categorical columns\n",
    "print(\"Categorical columns:\")\n",
    "print(cat_cols)\n"
   ]
  },
  {
   "cell_type": "code",
   "execution_count": 5,
   "id": "37de6b42",
   "metadata": {},
   "outputs": [
    {
     "data": {
      "text/plain": [
       "array(['REPORTED, NOT EVIDENT', 'NO INDICATION OF INJURY',\n",
       "       'NONINCAPACITATING INJURY', 'INCAPACITATING INJURY', nan, 'FATAL'],\n",
       "      dtype=object)"
      ]
     },
     "execution_count": 5,
     "metadata": {},
     "output_type": "execute_result"
    }
   ],
   "source": [
    "df[\"MOST_SEVERE_INJURY\"].unique()"
   ]
  },
  {
   "cell_type": "code",
   "execution_count": 6,
   "id": "3d42645d",
   "metadata": {},
   "outputs": [
    {
     "data": {
      "text/plain": [
       "NO INDICATION OF INJURY     172300\n",
       "NONINCAPACITATING INJURY     15367\n",
       "REPORTED, NOT EVIDENT         8246\n",
       "INCAPACITATING INJURY         3415\n",
       "FATAL                          226\n",
       "Name: MOST_SEVERE_INJURY, dtype: int64"
      ]
     },
     "execution_count": 6,
     "metadata": {},
     "output_type": "execute_result"
    }
   ],
   "source": [
    "class_counts = df['MOST_SEVERE_INJURY'].value_counts()\n",
    "class_counts"
   ]
  },
  {
   "cell_type": "code",
   "execution_count": 7,
   "id": "4fb1984b",
   "metadata": {},
   "outputs": [
    {
     "name": "stdout",
     "output_type": "stream",
     "text": [
      "                                     CRASH_RECORD_ID       CRASH_DATE  \\\n",
      "0  79c7a2ce89f446262efd86df3d72d18b04ba487024b7c4...  3/25/2019 14:43   \n",
      "1  792b539deaaad65ee5b4a9691d927a34d298eb33d42af0...    9/5/2018 8:40   \n",
      "2  0115ade9a755e835255508463f7e9c4a9a0b47e9304238...   7/15/2022 0:45   \n",
      "3  05b1982cdba5d8a00e7e76ad1ecdab0e598429f78481d2...  8/29/2022 11:30   \n",
      "4  017040c61958d2fa977c956b2bd2d6759ef7754496dc96...  7/15/2022 18:50   \n",
      "\n",
      "   POSTED_SPEED_LIMIT TRAFFIC_CONTROL_DEVICE      DEVICE_CONDITION  \\\n",
      "0                  30         TRAFFIC SIGNAL  FUNCTIONING PROPERLY   \n",
      "1                  30            NO CONTROLS           NO CONTROLS   \n",
      "2                  30                UNKNOWN               UNKNOWN   \n",
      "3                  30         TRAFFIC SIGNAL  FUNCTIONING PROPERLY   \n",
      "4                  30         TRAFFIC SIGNAL  FUNCTIONING PROPERLY   \n",
      "\n",
      "  WEATHER_CONDITION LIGHTING_CONDITION FIRST_CRASH_TYPE TRAFFICWAY_TYPE  \\\n",
      "0             CLEAR           DAYLIGHT          TURNING         ONE-WAY   \n",
      "1             CLEAR           DAYLIGHT            ANGLE     NOT DIVIDED   \n",
      "2             CLEAR         POORLY LIT            ANGLE     NOT DIVIDED   \n",
      "3             CLEAR           DAYLIGHT         REAR END        FOUR WAY   \n",
      "4             CLEAR           DAYLIGHT         REAR END     NOT DIVIDED   \n",
      "\n",
      "            ALIGNMENT  ... INJURIES_NO_INDICATION INJURIES_UNKNOWN CRASH_HOUR  \\\n",
      "0  STRAIGHT AND LEVEL  ...                    2.0              0.0         14   \n",
      "1  STRAIGHT AND LEVEL  ...                    2.0              0.0          8   \n",
      "2  STRAIGHT AND LEVEL  ...                    2.0              0.0          0   \n",
      "3  STRAIGHT AND LEVEL  ...                    3.0              0.0         11   \n",
      "4  STRAIGHT AND LEVEL  ...                    2.0              0.0         18   \n",
      "\n",
      "  CRASH_DAY_OF_WEEK CRASH_MONTH   LATITUDE  LONGITUDE  \\\n",
      "0                 2           3  41.884547 -87.641201   \n",
      "1                 4           9  41.968562 -87.740659   \n",
      "2                 6           7  41.886336 -87.716203   \n",
      "3                 2           8  41.749348 -87.721097   \n",
      "4                 6           7  41.925111 -87.667997   \n",
      "\n",
      "                                   LOCATION  CRASH_YEAR SEVERE_INJURY  \n",
      "0   POINT (-87.64120093714 41.884547224337)        2019             1  \n",
      "1  POINT (-87.740659314632 41.968562453871)        2018             0  \n",
      "2  POINT (-87.716203130599 41.886336409761)        2022             0  \n",
      "3  POINT (-87.721096727406 41.749348170421)        2022             0  \n",
      "4  POINT (-87.667997321599 41.925110815832)        2022             0  \n",
      "\n",
      "[5 rows x 39 columns]\n"
     ]
    }
   ],
   "source": [
    "# create a new column with 1 for specified categories, 0 otherwise\n",
    "df['SEVERE_INJURY'] = df['MOST_SEVERE_INJURY'].apply(lambda x:\n",
    "    1 if x in ['NONINCAPACITATING INJURY', 'REPORTED, NOT EVIDENT', 'REPORTED', 'INCAPACITATING INJURY', 'FATAL'] else 0)\n",
    "\n",
    "# print the updated DataFrame\n",
    "print(df.head())"
   ]
  },
  {
   "cell_type": "code",
   "execution_count": 8,
   "id": "e4ee16b3",
   "metadata": {},
   "outputs": [
    {
     "data": {
      "text/plain": [
       "(199999, 39)"
      ]
     },
     "execution_count": 8,
     "metadata": {},
     "output_type": "execute_result"
    }
   ],
   "source": [
    "df.shape"
   ]
  },
  {
   "cell_type": "code",
   "execution_count": 9,
   "id": "235c4e6f",
   "metadata": {},
   "outputs": [
    {
     "data": {
      "text/plain": [
       "0    172745\n",
       "1     27254\n",
       "Name: SEVERE_INJURY, dtype: int64"
      ]
     },
     "execution_count": 9,
     "metadata": {},
     "output_type": "execute_result"
    }
   ],
   "source": [
    "class_counts = df['SEVERE_INJURY'].value_counts()\n",
    "class_counts"
   ]
  },
  {
   "cell_type": "code",
   "execution_count": 10,
   "id": "6f0e834e",
   "metadata": {},
   "outputs": [
    {
     "data": {
      "text/plain": [
       "0    86.372932\n",
       "1    13.627068\n",
       "dtype: float64"
      ]
     },
     "execution_count": 10,
     "metadata": {},
     "output_type": "execute_result"
    }
   ],
   "source": [
    "class_percentages = pd.Series([(x / df.shape[0]) * 100.00 for x in class_counts])\n",
    "class_percentages"
   ]
  },
  {
   "cell_type": "code",
   "execution_count": 11,
   "id": "27aa8e2d",
   "metadata": {},
   "outputs": [
    {
     "data": {
      "image/png": "[encoded data removed]",
      "text/plain": [
       "<Figure size 432x288 with 1 Axes>"
      ]
     },
     "metadata": {
      "needs_background": "light"
     },
     "output_type": "display_data"
    }
   ],
   "source": [
    "fig, ax = plt.subplots()\n",
    "ax.bar(class_counts.index, class_counts)\n",
    "ax.set_xticks([0, 1])\n",
    "ax.set_xticklabels(class_percentages.index.astype(str) + '\\n' + ' ' +\n",
    "                   class_percentages.round(0).astype(str) + '%')\n",
    "ax.set_ylabel('Count')\n",
    "ax.set_xlabel('Incapacitating Injuries')\n",
    "ax.set_title('Incapacitating Injuries class distribution\\nwhere 1 means presence of severe/serious injury',\n",
    "              fontsize = 10)\n",
    "plt.show()"
   ]
  },
  {
   "cell_type": "markdown",
   "id": "d4bd5329",
   "metadata": {},
   "source": [
    "Balanced and Imbalanced Classes\n",
    "\n",
    "For a binary classification problem (two classes), the problem is called balanced if the number of elements of each class is about the same--in other words, each class would have a size that is about 50% of the total number of elements in the dataset. In this particular case study, we can say that this problem is imbalanced, since the difference in the percentages is about close to 80%. When there is a imbalance among the classes in a binary classification problem, one usually refers to them as the minority class, and the majority class.\n",
    "\n",
    "There are two important challenges posed by ICPs:\n",
    "\n",
    "    The difference in the size of the classes is inherent to the problem under study. This means that one cannot pave this difference by adding more elements to the minority class.\n",
    "\n",
    "    Classification algorithms are usually negatively affected by the lack of sufficient samples of the minority class, in that the models built with them are practically unable to differentiate the minority class from the majority class, where the former is the one of interest. For instance, imagine a model built to compute the likelihod of a patient developing Cancer that nearly always predicts a small likelihood for this class (meaning, that the model predicts NO Cancer, when it should have predicted Cancer in some cases).\n",
    "\n",
    "Since this particular case study deals with an imbalance among the classes, we will not be able to build useful models with the given dataset--without introducing additional interventions. One  approach to deal with ICP is by either generating sythetic data (a.k.a. oversampling), or by generating a set of smaller \"majority classes\" by taking chunks from the original majority class (a.k.a. undersampling). In general, these approaches are collectively referred to as resampling.\n"
   ]
  },
  {
   "cell_type": "code",
   "execution_count": 69,
   "id": "f9127a59",
   "metadata": {},
   "outputs": [
    {
     "data": {
      "text/html": [
       "<div>\n",
       "<style scoped>\n",
       "    .dataframe tbody tr th:only-of-type {\n",
       "        vertical-align: middle;\n",
       "    }\n",
       "\n",
       "    .dataframe tbody tr th {\n",
       "        vertical-align: top;\n",
       "    }\n",
       "\n",
       "    .dataframe thead th {\n",
       "        text-align: right;\n",
       "    }\n",
       "</style>\n",
       "<table border=\"1\" class=\"dataframe\">\n",
       "  <thead>\n",
       "    <tr style=\"text-align: right;\">\n",
       "      <th></th>\n",
       "      <th>CRASH_RECORD_ID</th>\n",
       "      <th>CRASH_DATE</th>\n",
       "      <th>POSTED_SPEED_LIMIT</th>\n",
       "      <th>TRAFFIC_CONTROL_DEVICE</th>\n",
       "      <th>DEVICE_CONDITION</th>\n",
       "      <th>WEATHER_CONDITION</th>\n",
       "      <th>LIGHTING_CONDITION</th>\n",
       "      <th>FIRST_CRASH_TYPE</th>\n",
       "      <th>TRAFFICWAY_TYPE</th>\n",
       "      <th>ALIGNMENT</th>\n",
       "      <th>...</th>\n",
       "      <th>INJURIES_NO_INDICATION</th>\n",
       "      <th>INJURIES_UNKNOWN</th>\n",
       "      <th>CRASH_HOUR</th>\n",
       "      <th>CRASH_DAY_OF_WEEK</th>\n",
       "      <th>CRASH_MONTH</th>\n",
       "      <th>LATITUDE</th>\n",
       "      <th>LONGITUDE</th>\n",
       "      <th>LOCATION</th>\n",
       "      <th>CRASH_YEAR</th>\n",
       "      <th>SEVERE_INJURY</th>\n",
       "    </tr>\n",
       "  </thead>\n",
       "  <tbody>\n",
       "    <tr>\n",
       "      <th>139130</th>\n",
       "      <td>152462ef02ed078545eb56d9ab2a399f0f0547e7f8b501...</td>\n",
       "      <td>12/2/2018 5:10</td>\n",
       "      <td>30</td>\n",
       "      <td>STOP SIGN/FLASHER</td>\n",
       "      <td>FUNCTIONING PROPERLY</td>\n",
       "      <td>RAIN</td>\n",
       "      <td>POORLY LIT</td>\n",
       "      <td>ANGLE</td>\n",
       "      <td>DIVIDED - W/MEDIAN (NOT RAISED)</td>\n",
       "      <td>STRAIGHT AND LEVEL</td>\n",
       "      <td>...</td>\n",
       "      <td>4.0</td>\n",
       "      <td>0.0</td>\n",
       "      <td>5</td>\n",
       "      <td>1</td>\n",
       "      <td>12</td>\n",
       "      <td>41.941905</td>\n",
       "      <td>-87.649418</td>\n",
       "      <td>POINT (-87.649418162633 41.941904934314)</td>\n",
       "      <td>2018</td>\n",
       "      <td>0</td>\n",
       "    </tr>\n",
       "    <tr>\n",
       "      <th>178819</th>\n",
       "      <td>274be1520070e61fd2cd2185aca2a7ce0858d220170470...</td>\n",
       "      <td>9/22/2018 23:00</td>\n",
       "      <td>30</td>\n",
       "      <td>NO CONTROLS</td>\n",
       "      <td>NO CONTROLS</td>\n",
       "      <td>CLEAR</td>\n",
       "      <td>POORLY LIT</td>\n",
       "      <td>REAR END</td>\n",
       "      <td>ONE-WAY</td>\n",
       "      <td>STRAIGHT AND LEVEL</td>\n",
       "      <td>...</td>\n",
       "      <td>3.0</td>\n",
       "      <td>0.0</td>\n",
       "      <td>23</td>\n",
       "      <td>7</td>\n",
       "      <td>9</td>\n",
       "      <td>41.810637</td>\n",
       "      <td>-87.601869</td>\n",
       "      <td>POINT (-87.601868847824 41.810637389919)</td>\n",
       "      <td>2018</td>\n",
       "      <td>0</td>\n",
       "    </tr>\n",
       "    <tr>\n",
       "      <th>17543</th>\n",
       "      <td>c73a860620cef835316c109717e37060208b3b0dbf21ee...</td>\n",
       "      <td>7/31/2022 11:05</td>\n",
       "      <td>40</td>\n",
       "      <td>NO CONTROLS</td>\n",
       "      <td>NO CONTROLS</td>\n",
       "      <td>CLEAR</td>\n",
       "      <td>DAYLIGHT</td>\n",
       "      <td>REAR END</td>\n",
       "      <td>DIVIDED - W/MEDIAN BARRIER</td>\n",
       "      <td>STRAIGHT AND LEVEL</td>\n",
       "      <td>...</td>\n",
       "      <td>6.0</td>\n",
       "      <td>0.0</td>\n",
       "      <td>11</td>\n",
       "      <td>1</td>\n",
       "      <td>7</td>\n",
       "      <td>41.904152</td>\n",
       "      <td>-87.624279</td>\n",
       "      <td>POINT (-87.624278814636 41.904152101895)</td>\n",
       "      <td>2022</td>\n",
       "      <td>0</td>\n",
       "    </tr>\n",
       "    <tr>\n",
       "      <th>70839</th>\n",
       "      <td>8e25b549bc8b12177d8dbc11c6ba983e1b444813baa4d8...</td>\n",
       "      <td>9/8/2017 1:28</td>\n",
       "      <td>30</td>\n",
       "      <td>TRAFFIC SIGNAL</td>\n",
       "      <td>FUNCTIONING PROPERLY</td>\n",
       "      <td>CLEAR</td>\n",
       "      <td>POORLY LIT</td>\n",
       "      <td>TURNING</td>\n",
       "      <td>NOT DIVIDED</td>\n",
       "      <td>STRAIGHT AND LEVEL</td>\n",
       "      <td>...</td>\n",
       "      <td>3.0</td>\n",
       "      <td>0.0</td>\n",
       "      <td>1</td>\n",
       "      <td>6</td>\n",
       "      <td>9</td>\n",
       "      <td>41.911029</td>\n",
       "      <td>-87.648336</td>\n",
       "      <td>POINT (-87.64833580602 41.911028509812)</td>\n",
       "      <td>2017</td>\n",
       "      <td>1</td>\n",
       "    </tr>\n",
       "    <tr>\n",
       "      <th>28299</th>\n",
       "      <td>832275562b947a07cfd64c713191034a536007c33947df...</td>\n",
       "      <td>8/28/2022 2:00</td>\n",
       "      <td>30</td>\n",
       "      <td>NO CONTROLS</td>\n",
       "      <td>NO CONTROLS</td>\n",
       "      <td>CLEAR</td>\n",
       "      <td>POORLY LIT</td>\n",
       "      <td>PEDALCYCLIST</td>\n",
       "      <td>NOT DIVIDED</td>\n",
       "      <td>STRAIGHT AND LEVEL</td>\n",
       "      <td>...</td>\n",
       "      <td>1.0</td>\n",
       "      <td>0.0</td>\n",
       "      <td>2</td>\n",
       "      <td>1</td>\n",
       "      <td>8</td>\n",
       "      <td>41.918022</td>\n",
       "      <td>-87.648355</td>\n",
       "      <td>POINT (-87.648355208709 41.918022185172)</td>\n",
       "      <td>2022</td>\n",
       "      <td>1</td>\n",
       "    </tr>\n",
       "  </tbody>\n",
       "</table>\n",
       "<p>5 rows × 39 columns</p>\n",
       "</div>"
      ],
      "text/plain": [
       "                                          CRASH_RECORD_ID       CRASH_DATE  \\\n",
       "139130  152462ef02ed078545eb56d9ab2a399f0f0547e7f8b501...   12/2/2018 5:10   \n",
       "178819  274be1520070e61fd2cd2185aca2a7ce0858d220170470...  9/22/2018 23:00   \n",
       "17543   c73a860620cef835316c109717e37060208b3b0dbf21ee...  7/31/2022 11:05   \n",
       "70839   8e25b549bc8b12177d8dbc11c6ba983e1b444813baa4d8...    9/8/2017 1:28   \n",
       "28299   832275562b947a07cfd64c713191034a536007c33947df...   8/28/2022 2:00   \n",
       "\n",
       "        POSTED_SPEED_LIMIT TRAFFIC_CONTROL_DEVICE      DEVICE_CONDITION  \\\n",
       "139130                  30      STOP SIGN/FLASHER  FUNCTIONING PROPERLY   \n",
       "178819                  30            NO CONTROLS           NO CONTROLS   \n",
       "17543                   40            NO CONTROLS           NO CONTROLS   \n",
       "70839                   30         TRAFFIC SIGNAL  FUNCTIONING PROPERLY   \n",
       "28299                   30            NO CONTROLS           NO CONTROLS   \n",
       "\n",
       "       WEATHER_CONDITION LIGHTING_CONDITION FIRST_CRASH_TYPE  \\\n",
       "139130              RAIN         POORLY LIT            ANGLE   \n",
       "178819             CLEAR         POORLY LIT         REAR END   \n",
       "17543              CLEAR           DAYLIGHT         REAR END   \n",
       "70839              CLEAR         POORLY LIT          TURNING   \n",
       "28299              CLEAR         POORLY LIT     PEDALCYCLIST   \n",
       "\n",
       "                        TRAFFICWAY_TYPE           ALIGNMENT  ...  \\\n",
       "139130  DIVIDED - W/MEDIAN (NOT RAISED)  STRAIGHT AND LEVEL  ...   \n",
       "178819                          ONE-WAY  STRAIGHT AND LEVEL  ...   \n",
       "17543        DIVIDED - W/MEDIAN BARRIER  STRAIGHT AND LEVEL  ...   \n",
       "70839                       NOT DIVIDED  STRAIGHT AND LEVEL  ...   \n",
       "28299                       NOT DIVIDED  STRAIGHT AND LEVEL  ...   \n",
       "\n",
       "       INJURIES_NO_INDICATION INJURIES_UNKNOWN CRASH_HOUR CRASH_DAY_OF_WEEK  \\\n",
       "139130                    4.0              0.0          5                 1   \n",
       "178819                    3.0              0.0         23                 7   \n",
       "17543                     6.0              0.0         11                 1   \n",
       "70839                     3.0              0.0          1                 6   \n",
       "28299                     1.0              0.0          2                 1   \n",
       "\n",
       "       CRASH_MONTH   LATITUDE  LONGITUDE  \\\n",
       "139130          12  41.941905 -87.649418   \n",
       "178819           9  41.810637 -87.601869   \n",
       "17543            7  41.904152 -87.624279   \n",
       "70839            9  41.911029 -87.648336   \n",
       "28299            8  41.918022 -87.648355   \n",
       "\n",
       "                                        LOCATION  CRASH_YEAR SEVERE_INJURY  \n",
       "139130  POINT (-87.649418162633 41.941904934314)        2018             0  \n",
       "178819  POINT (-87.601868847824 41.810637389919)        2018             0  \n",
       "17543   POINT (-87.624278814636 41.904152101895)        2022             0  \n",
       "70839    POINT (-87.64833580602 41.911028509812)        2017             1  \n",
       "28299   POINT (-87.648355208709 41.918022185172)        2022             1  \n",
       "\n",
       "[5 rows x 39 columns]"
      ]
     },
     "execution_count": 69,
     "metadata": {},
     "output_type": "execute_result"
    }
   ],
   "source": [
    "# Count the number of instances in each class\n",
    "class_counts = df['SEVERE_INJURY'].value_counts()\n",
    "\n",
    "# Calculate the minority class size\n",
    "minority_class_size = class_counts[1]\n",
    "\n",
    "# Undersample the majority class to match the minority class size\n",
    "majority_class = df[df['SEVERE_INJURY'] == 0].sample(n=minority_class_size, random_state=42)\n",
    "\n",
    "# Concatenate the minority class and the sampled majority class\n",
    "balanced_data = pd.concat([df[df['SEVERE_INJURY'] == 1], majority_class])\n",
    "\n",
    "# Shuffle the data to avoid any order effects\n",
    "balanced_data = balanced_data.sample(frac=1, random_state=42)\n",
    "balanced_data.head()\n",
    "\n",
    "# Save the balanced data to a new csv file\n",
    "#balanced_data.to_csv('balanced_data.csv', index=False)"
   ]
  },
  {
   "cell_type": "code",
   "execution_count": 13,
   "id": "771e0fb4",
   "metadata": {},
   "outputs": [
    {
     "data": {
      "text/plain": [
       "0    27254\n",
       "1    27254\n",
       "Name: SEVERE_INJURY, dtype: int64"
      ]
     },
     "execution_count": 13,
     "metadata": {},
     "output_type": "execute_result"
    }
   ],
   "source": [
    "class_counts = balanced_data['SEVERE_INJURY'].value_counts()\n",
    "class_counts"
   ]
  },
  {
   "cell_type": "code",
   "execution_count": 14,
   "id": "5634e916",
   "metadata": {},
   "outputs": [
    {
     "name": "stdout",
     "output_type": "stream",
     "text": [
      "CRASH_RECORD_ID                     0\n",
      "CRASH_DATE                          0\n",
      "POSTED_SPEED_LIMIT                  0\n",
      "TRAFFIC_CONTROL_DEVICE              0\n",
      "DEVICE_CONDITION                    0\n",
      "WEATHER_CONDITION                   0\n",
      "LIGHTING_CONDITION                  0\n",
      "FIRST_CRASH_TYPE                    0\n",
      "TRAFFICWAY_TYPE                     0\n",
      "ALIGNMENT                           0\n",
      "ROADWAY_SURFACE_COND                0\n",
      "ROAD_DEFECT                         0\n",
      "REPORT_TYPE                      1863\n",
      "CRASH_TYPE                          0\n",
      "DAMAGE                              0\n",
      "DATE_POLICE_NOTIFIED                0\n",
      "PRIM_CONTRIBUTORY_CAUSE             0\n",
      "SEC_CONTRIBUTORY_CAUSE              0\n",
      "STREET_NO                           0\n",
      "STREET_DIRECTION                    0\n",
      "STREET_NAME                         0\n",
      "BEAT_OF_OCCURRENCE                  0\n",
      "NUM_UNITS                           0\n",
      "MOST_SEVERE_INJURY                 69\n",
      "INJURIES_TOTAL                     69\n",
      "INJURIES_FATAL                      0\n",
      "INJURIES_INCAPACITATING            69\n",
      "INJURIES_NON_INCAPACITATING        69\n",
      "INJURIES_REPORTED_NOT_EVIDENT      69\n",
      "INJURIES_NO_INDICATION             69\n",
      "INJURIES_UNKNOWN                   69\n",
      "CRASH_HOUR                          0\n",
      "CRASH_DAY_OF_WEEK                   0\n",
      "CRASH_MONTH                         0\n",
      "LATITUDE                          360\n",
      "LONGITUDE                         360\n",
      "LOCATION                          360\n",
      "CRASH_YEAR                          0\n",
      "SEVERE_INJURY                       0\n",
      "dtype: int64\n"
     ]
    }
   ],
   "source": [
    "print(balanced_data.isna().sum())"
   ]
  },
  {
   "cell_type": "markdown",
   "id": "2cf24ad4",
   "metadata": {},
   "source": [
    "Looking into the column Total_Injuries shows that the 441 crashes were caused by crashing into a parked vehicle or a fixed object. Thus these crashes did not result in a serious injury. "
   ]
  },
  {
   "cell_type": "code",
   "execution_count": 15,
   "id": "ebd85b1b",
   "metadata": {},
   "outputs": [],
   "source": [
    "df.fillna(0, inplace=True)  # replace missing values with 0\n"
   ]
  },
  {
   "cell_type": "code",
   "execution_count": 16,
   "id": "ab04b049",
   "metadata": {},
   "outputs": [],
   "source": [
    "balanced_data['REPORT_TYPE'].fillna(df['REPORT_TYPE'].mode()[0], inplace=True)"
   ]
  },
  {
   "cell_type": "code",
   "execution_count": 17,
   "id": "dd2052ca",
   "metadata": {},
   "outputs": [],
   "source": [
    "balanced_data['MOST_SEVERE_INJURY'].fillna(df['MOST_SEVERE_INJURY'].mode()[0], inplace=True)\n",
    "balanced_data['INJURIES_TOTAL'].fillna(df['INJURIES_TOTAL'].mode()[0], inplace=True)\n",
    "balanced_data['INJURIES_INCAPACITATING'].fillna(df['INJURIES_INCAPACITATING'].mode()[0], inplace=True)\n",
    "balanced_data['INJURIES_REPORTED_NOT_EVIDENT'].fillna(df['INJURIES_REPORTED_NOT_EVIDENT'].mode()[0], inplace=True)\n",
    "balanced_data['INJURIES_NO_INDICATION'].fillna(df['INJURIES_NO_INDICATION'].mode()[0], inplace=True)\n",
    "balanced_data['INJURIES_UNKNOWN'].fillna(df['INJURIES_UNKNOWN'].mode()[0], inplace=True)\n",
    "balanced_data['LATITUDE'].fillna(df['LATITUDE'].mode()[0], inplace=True)\n",
    "balanced_data['LONGITUDE'].fillna(df['LONGITUDE'].mode()[0], inplace=True)\n",
    "balanced_data['LOCATION'].fillna(df['LOCATION'].mode()[0], inplace=True)\n",
    "balanced_data['INJURIES_NON_INCAPACITATING'].fillna(df['INJURIES_NON_INCAPACITATING'].mode()[0], inplace=True)\n"
   ]
  },
  {
   "cell_type": "code",
   "execution_count": 18,
   "id": "2ec2e87f",
   "metadata": {},
   "outputs": [
    {
     "name": "stdout",
     "output_type": "stream",
     "text": [
      "CRASH_RECORD_ID                  0\n",
      "CRASH_DATE                       0\n",
      "POSTED_SPEED_LIMIT               0\n",
      "TRAFFIC_CONTROL_DEVICE           0\n",
      "DEVICE_CONDITION                 0\n",
      "WEATHER_CONDITION                0\n",
      "LIGHTING_CONDITION               0\n",
      "FIRST_CRASH_TYPE                 0\n",
      "TRAFFICWAY_TYPE                  0\n",
      "ALIGNMENT                        0\n",
      "ROADWAY_SURFACE_COND             0\n",
      "ROAD_DEFECT                      0\n",
      "REPORT_TYPE                      0\n",
      "CRASH_TYPE                       0\n",
      "DAMAGE                           0\n",
      "DATE_POLICE_NOTIFIED             0\n",
      "PRIM_CONTRIBUTORY_CAUSE          0\n",
      "SEC_CONTRIBUTORY_CAUSE           0\n",
      "STREET_NO                        0\n",
      "STREET_DIRECTION                 0\n",
      "STREET_NAME                      0\n",
      "BEAT_OF_OCCURRENCE               0\n",
      "NUM_UNITS                        0\n",
      "MOST_SEVERE_INJURY               0\n",
      "INJURIES_TOTAL                   0\n",
      "INJURIES_FATAL                   0\n",
      "INJURIES_INCAPACITATING          0\n",
      "INJURIES_NON_INCAPACITATING      0\n",
      "INJURIES_REPORTED_NOT_EVIDENT    0\n",
      "INJURIES_NO_INDICATION           0\n",
      "INJURIES_UNKNOWN                 0\n",
      "CRASH_HOUR                       0\n",
      "CRASH_DAY_OF_WEEK                0\n",
      "CRASH_MONTH                      0\n",
      "LATITUDE                         0\n",
      "LONGITUDE                        0\n",
      "LOCATION                         0\n",
      "CRASH_YEAR                       0\n",
      "SEVERE_INJURY                    0\n",
      "dtype: int64\n"
     ]
    }
   ],
   "source": [
    "print(balanced_data.isna().sum())"
   ]
  },
  {
   "cell_type": "code",
   "execution_count": 19,
   "id": "0d67e8f6",
   "metadata": {},
   "outputs": [
    {
     "data": {
      "text/plain": [
       "(54508, 39)"
      ]
     },
     "execution_count": 19,
     "metadata": {},
     "output_type": "execute_result"
    }
   ],
   "source": [
    "balanced_data.shape"
   ]
  },
  {
   "cell_type": "raw",
   "id": "77c17ae0",
   "metadata": {},
   "source": [
    "Dummy encoding is appropriate when the categorical variable is binary (i.e., has only two levels) or when the variable has multiple levels but there is no natural ordering or hierarchy among the levels. In dummy encoding, a binary variable is created for each level of the categorical variable, where 1 indicates the presence of that level and 0 indicates the absence. This results in a matrix of 0s and 1s.\n",
    "\n",
    "One-hot encoding is appropriate when the categorical variable has multiple levels and there is a natural ordering or hierarchy among the levels. In one-hot encoding, a binary variable is created for each level of the categorical variable, but unlike in dummy encoding, only one variable can be 1 for each observation. This results in a matrix of 0s and 1s, where each row represents an observation and each column represents a level of the categorical variable.\n",
    "\n",
    "For this project, one-hot encoding is more appropriate because it allows for a wider range of possible relationships between the levels of the categorical variable. \n",
    "\n",
    "Note: I used label encoding to avoid allocation of large space for the dataframe resulting from one-hot encoding"
   ]
  },
  {
   "cell_type": "code",
   "execution_count": 20,
   "id": "cc684b04",
   "metadata": {},
   "outputs": [
    {
     "name": "stdout",
     "output_type": "stream",
     "text": [
      "Categorical columns:\n",
      "['CRASH_RECORD_ID', 'CRASH_DATE', 'TRAFFIC_CONTROL_DEVICE', 'DEVICE_CONDITION', 'WEATHER_CONDITION', 'LIGHTING_CONDITION', 'FIRST_CRASH_TYPE', 'TRAFFICWAY_TYPE', 'ALIGNMENT', 'ROADWAY_SURFACE_COND', 'ROAD_DEFECT', 'REPORT_TYPE', 'CRASH_TYPE', 'DAMAGE', 'DATE_POLICE_NOTIFIED', 'PRIM_CONTRIBUTORY_CAUSE', 'SEC_CONTRIBUTORY_CAUSE', 'STREET_DIRECTION', 'STREET_NAME', 'MOST_SEVERE_INJURY', 'LOCATION']\n"
     ]
    }
   ],
   "source": [
    "categorical = balanced_data.select_dtypes(include=['object']).columns.tolist()\n",
    "\n",
    "# Print the list of categorical columns\n",
    "print(\"Categorical columns:\")\n",
    "print(cat_cols)"
   ]
  },
  {
   "cell_type": "code",
   "execution_count": 21,
   "id": "80433ff7",
   "metadata": {},
   "outputs": [],
   "source": [
    "from sklearn.preprocessing import LabelEncoder\n",
    "# Create a LabelEncoder object\n",
    "le = LabelEncoder()\n",
    "\n",
    "# Loop over each categorical variable and encode its values\n",
    "for col in categorical :\n",
    "    balanced_data[col] = le.fit_transform(balanced_data[col].astype(str))"
   ]
  },
  {
   "cell_type": "code",
   "execution_count": 22,
   "id": "f101fa98",
   "metadata": {},
   "outputs": [
    {
     "data": {
      "text/html": [
       "<div>\n",
       "<style scoped>\n",
       "    .dataframe tbody tr th:only-of-type {\n",
       "        vertical-align: middle;\n",
       "    }\n",
       "\n",
       "    .dataframe tbody tr th {\n",
       "        vertical-align: top;\n",
       "    }\n",
       "\n",
       "    .dataframe thead th {\n",
       "        text-align: right;\n",
       "    }\n",
       "</style>\n",
       "<table border=\"1\" class=\"dataframe\">\n",
       "  <thead>\n",
       "    <tr style=\"text-align: right;\">\n",
       "      <th></th>\n",
       "      <th>CRASH_RECORD_ID</th>\n",
       "      <th>CRASH_DATE</th>\n",
       "      <th>POSTED_SPEED_LIMIT</th>\n",
       "      <th>TRAFFIC_CONTROL_DEVICE</th>\n",
       "      <th>DEVICE_CONDITION</th>\n",
       "      <th>WEATHER_CONDITION</th>\n",
       "      <th>LIGHTING_CONDITION</th>\n",
       "      <th>FIRST_CRASH_TYPE</th>\n",
       "      <th>TRAFFICWAY_TYPE</th>\n",
       "      <th>ALIGNMENT</th>\n",
       "      <th>...</th>\n",
       "      <th>INJURIES_NO_INDICATION</th>\n",
       "      <th>INJURIES_UNKNOWN</th>\n",
       "      <th>CRASH_HOUR</th>\n",
       "      <th>CRASH_DAY_OF_WEEK</th>\n",
       "      <th>CRASH_MONTH</th>\n",
       "      <th>LATITUDE</th>\n",
       "      <th>LONGITUDE</th>\n",
       "      <th>LOCATION</th>\n",
       "      <th>CRASH_YEAR</th>\n",
       "      <th>SEVERE_INJURY</th>\n",
       "    </tr>\n",
       "  </thead>\n",
       "  <tbody>\n",
       "    <tr>\n",
       "      <th>139130</th>\n",
       "      <td>14610</td>\n",
       "      <td>13817</td>\n",
       "      <td>30</td>\n",
       "      <td>15</td>\n",
       "      <td>1</td>\n",
       "      <td>6</td>\n",
       "      <td>4</td>\n",
       "      <td>0</td>\n",
       "      <td>2</td>\n",
       "      <td>3</td>\n",
       "      <td>...</td>\n",
       "      <td>4.0</td>\n",
       "      <td>0.0</td>\n",
       "      <td>5</td>\n",
       "      <td>1</td>\n",
       "      <td>12</td>\n",
       "      <td>41.941905</td>\n",
       "      <td>-87.649418</td>\n",
       "      <td>13297</td>\n",
       "      <td>2018</td>\n",
       "      <td>0</td>\n",
       "    </tr>\n",
       "    <tr>\n",
       "      <th>178819</th>\n",
       "      <td>27140</td>\n",
       "      <td>49820</td>\n",
       "      <td>30</td>\n",
       "      <td>4</td>\n",
       "      <td>3</td>\n",
       "      <td>1</td>\n",
       "      <td>4</td>\n",
       "      <td>10</td>\n",
       "      <td>10</td>\n",
       "      <td>3</td>\n",
       "      <td>...</td>\n",
       "      <td>3.0</td>\n",
       "      <td>0.0</td>\n",
       "      <td>23</td>\n",
       "      <td>7</td>\n",
       "      <td>9</td>\n",
       "      <td>41.810637</td>\n",
       "      <td>-87.601869</td>\n",
       "      <td>3002</td>\n",
       "      <td>2018</td>\n",
       "      <td>0</td>\n",
       "    </tr>\n",
       "    <tr>\n",
       "      <th>17543</th>\n",
       "      <td>53406</td>\n",
       "      <td>40438</td>\n",
       "      <td>40</td>\n",
       "      <td>4</td>\n",
       "      <td>3</td>\n",
       "      <td>1</td>\n",
       "      <td>2</td>\n",
       "      <td>10</td>\n",
       "      <td>3</td>\n",
       "      <td>3</td>\n",
       "      <td>...</td>\n",
       "      <td>6.0</td>\n",
       "      <td>0.0</td>\n",
       "      <td>11</td>\n",
       "      <td>1</td>\n",
       "      <td>7</td>\n",
       "      <td>41.904152</td>\n",
       "      <td>-87.624279</td>\n",
       "      <td>6560</td>\n",
       "      <td>2022</td>\n",
       "      <td>0</td>\n",
       "    </tr>\n",
       "    <tr>\n",
       "      <th>70839</th>\n",
       "      <td>49157</td>\n",
       "      <td>51944</td>\n",
       "      <td>30</td>\n",
       "      <td>16</td>\n",
       "      <td>1</td>\n",
       "      <td>1</td>\n",
       "      <td>4</td>\n",
       "      <td>17</td>\n",
       "      <td>8</td>\n",
       "      <td>3</td>\n",
       "      <td>...</td>\n",
       "      <td>3.0</td>\n",
       "      <td>0.0</td>\n",
       "      <td>1</td>\n",
       "      <td>6</td>\n",
       "      <td>9</td>\n",
       "      <td>41.911029</td>\n",
       "      <td>-87.648336</td>\n",
       "      <td>13028</td>\n",
       "      <td>2017</td>\n",
       "      <td>1</td>\n",
       "    </tr>\n",
       "    <tr>\n",
       "      <th>28299</th>\n",
       "      <td>41535</td>\n",
       "      <td>45727</td>\n",
       "      <td>30</td>\n",
       "      <td>4</td>\n",
       "      <td>3</td>\n",
       "      <td>1</td>\n",
       "      <td>4</td>\n",
       "      <td>8</td>\n",
       "      <td>8</td>\n",
       "      <td>3</td>\n",
       "      <td>...</td>\n",
       "      <td>1.0</td>\n",
       "      <td>0.0</td>\n",
       "      <td>2</td>\n",
       "      <td>1</td>\n",
       "      <td>8</td>\n",
       "      <td>41.918022</td>\n",
       "      <td>-87.648355</td>\n",
       "      <td>13035</td>\n",
       "      <td>2022</td>\n",
       "      <td>1</td>\n",
       "    </tr>\n",
       "  </tbody>\n",
       "</table>\n",
       "<p>5 rows × 39 columns</p>\n",
       "</div>"
      ],
      "text/plain": [
       "        CRASH_RECORD_ID  CRASH_DATE  POSTED_SPEED_LIMIT  \\\n",
       "139130            14610       13817                  30   \n",
       "178819            27140       49820                  30   \n",
       "17543             53406       40438                  40   \n",
       "70839             49157       51944                  30   \n",
       "28299             41535       45727                  30   \n",
       "\n",
       "        TRAFFIC_CONTROL_DEVICE  DEVICE_CONDITION  WEATHER_CONDITION  \\\n",
       "139130                      15                 1                  6   \n",
       "178819                       4                 3                  1   \n",
       "17543                        4                 3                  1   \n",
       "70839                       16                 1                  1   \n",
       "28299                        4                 3                  1   \n",
       "\n",
       "        LIGHTING_CONDITION  FIRST_CRASH_TYPE  TRAFFICWAY_TYPE  ALIGNMENT  ...  \\\n",
       "139130                   4                 0                2          3  ...   \n",
       "178819                   4                10               10          3  ...   \n",
       "17543                    2                10                3          3  ...   \n",
       "70839                    4                17                8          3  ...   \n",
       "28299                    4                 8                8          3  ...   \n",
       "\n",
       "        INJURIES_NO_INDICATION  INJURIES_UNKNOWN  CRASH_HOUR  \\\n",
       "139130                     4.0               0.0           5   \n",
       "178819                     3.0               0.0          23   \n",
       "17543                      6.0               0.0          11   \n",
       "70839                      3.0               0.0           1   \n",
       "28299                      1.0               0.0           2   \n",
       "\n",
       "        CRASH_DAY_OF_WEEK  CRASH_MONTH   LATITUDE  LONGITUDE  LOCATION  \\\n",
       "139130                  1           12  41.941905 -87.649418     13297   \n",
       "178819                  7            9  41.810637 -87.601869      3002   \n",
       "17543                   1            7  41.904152 -87.624279      6560   \n",
       "70839                   6            9  41.911029 -87.648336     13028   \n",
       "28299                   1            8  41.918022 -87.648355     13035   \n",
       "\n",
       "        CRASH_YEAR  SEVERE_INJURY  \n",
       "139130        2018              0  \n",
       "178819        2018              0  \n",
       "17543         2022              0  \n",
       "70839         2017              1  \n",
       "28299         2022              1  \n",
       "\n",
       "[5 rows x 39 columns]"
      ]
     },
     "execution_count": 22,
     "metadata": {},
     "output_type": "execute_result"
    }
   ],
   "source": [
    "balanced_data.head()"
   ]
  },
  {
   "cell_type": "code",
   "execution_count": 53,
   "id": "0cb152e1",
   "metadata": {},
   "outputs": [
    {
     "name": "stdout",
     "output_type": "stream",
     "text": [
      "<class 'pandas.core.frame.DataFrame'>\n",
      "Int64Index: 54508 entries, 139130 to 114054\n",
      "Data columns (total 39 columns):\n",
      " #   Column                         Non-Null Count  Dtype  \n",
      "---  ------                         --------------  -----  \n",
      " 0   CRASH_RECORD_ID                54508 non-null  int32  \n",
      " 1   CRASH_DATE                     54508 non-null  int32  \n",
      " 2   POSTED_SPEED_LIMIT             54508 non-null  int64  \n",
      " 3   TRAFFIC_CONTROL_DEVICE         54508 non-null  int32  \n",
      " 4   DEVICE_CONDITION               54508 non-null  int32  \n",
      " 5   WEATHER_CONDITION              54508 non-null  int32  \n",
      " 6   LIGHTING_CONDITION             54508 non-null  int32  \n",
      " 7   FIRST_CRASH_TYPE               54508 non-null  int32  \n",
      " 8   TRAFFICWAY_TYPE                54508 non-null  int32  \n",
      " 9   ALIGNMENT                      54508 non-null  int32  \n",
      " 10  ROADWAY_SURFACE_COND           54508 non-null  int32  \n",
      " 11  ROAD_DEFECT                    54508 non-null  int32  \n",
      " 12  REPORT_TYPE                    54508 non-null  int32  \n",
      " 13  CRASH_TYPE                     54508 non-null  int32  \n",
      " 14  DAMAGE                         54508 non-null  int32  \n",
      " 15  DATE_POLICE_NOTIFIED           54508 non-null  int32  \n",
      " 16  PRIM_CONTRIBUTORY_CAUSE        54508 non-null  int32  \n",
      " 17  SEC_CONTRIBUTORY_CAUSE         54508 non-null  int32  \n",
      " 18  STREET_NO                      54508 non-null  int64  \n",
      " 19  STREET_DIRECTION               54508 non-null  int32  \n",
      " 20  STREET_NAME                    54508 non-null  int32  \n",
      " 21  BEAT_OF_OCCURRENCE             54508 non-null  float64\n",
      " 22  NUM_UNITS                      54508 non-null  int64  \n",
      " 23  MOST_SEVERE_INJURY             54508 non-null  int32  \n",
      " 24  INJURIES_TOTAL                 54508 non-null  float64\n",
      " 25  INJURIES_FATAL                 54508 non-null  float64\n",
      " 26  INJURIES_INCAPACITATING        54508 non-null  float64\n",
      " 27  INJURIES_NON_INCAPACITATING    54508 non-null  float64\n",
      " 28  INJURIES_REPORTED_NOT_EVIDENT  54508 non-null  float64\n",
      " 29  INJURIES_NO_INDICATION         54508 non-null  float64\n",
      " 30  INJURIES_UNKNOWN               54508 non-null  float64\n",
      " 31  CRASH_HOUR                     54508 non-null  int64  \n",
      " 32  CRASH_DAY_OF_WEEK              54508 non-null  int64  \n",
      " 33  CRASH_MONTH                    54508 non-null  int64  \n",
      " 34  LATITUDE                       54508 non-null  float64\n",
      " 35  LONGITUDE                      54508 non-null  float64\n",
      " 36  LOCATION                       54508 non-null  int32  \n",
      " 37  CRASH_YEAR                     54508 non-null  int64  \n",
      " 38  SEVERE_INJURY                  54508 non-null  int64  \n",
      "dtypes: float64(10), int32(21), int64(8)\n",
      "memory usage: 12.3 MB\n"
     ]
    }
   ],
   "source": [
    "balanced_data.info()"
   ]
  },
  {
   "cell_type": "markdown",
   "id": "ea275f7a",
   "metadata": {},
   "source": [
    "# Scale: standardization"
   ]
  },
  {
   "cell_type": "markdown",
   "id": "f6d4027f",
   "metadata": {},
   "source": [
    "Preprocessing the target value for a classification problem depends on the specific problem and the type of classifier being used. In general, it is not necessary to preprocess the target variable, as it is already in a format suitable for most classification algorithms. However, there may be certain cases where preprocessing the target variable is necessary or can improve the performance of the model.\n",
    "\n",
    "For example, in our example the target variable is imbalanced, meaning that the target variable class has significantly low samples than the other classes. Thus,  it is necessary to balance the classes by oversampling or undersampling the data. This can help the model to learn the minority class better and improve its performance."
   ]
  },
  {
   "cell_type": "code",
   "execution_count": 23,
   "id": "87a7851e",
   "metadata": {},
   "outputs": [],
   "source": [
    "from sklearn.preprocessing import StandardScaler\n",
    "# Select the numeric columns\n",
    "numeric_cols = balanced_data.select_dtypes(include=['float64']).columns.tolist()\n",
    "\n",
    "# Create a scaler object\n",
    "scaler = StandardScaler()\n",
    "\n",
    "# Standardize the numeric columns\n",
    "\n",
    "\n",
    "balanced_data[numeric_cols] = scaler.fit_transform(balanced_data[numeric_cols])\n",
    "\n",
    "\n"
   ]
  },
  {
   "cell_type": "markdown",
   "id": "69b8ab25",
   "metadata": {},
   "source": [
    "# Split data into training and testing subsets"
   ]
  },
  {
   "cell_type": "code",
   "execution_count": 24,
   "id": "e94172e4",
   "metadata": {},
   "outputs": [
    {
     "name": "stdout",
     "output_type": "stream",
     "text": [
      "(54508, 38)\n",
      "(54508,)\n"
     ]
    }
   ],
   "source": [
    "from sklearn.model_selection import train_test_split\n",
    "\n",
    "# Define the features and target variable\n",
    "X = balanced_data.drop('SEVERE_INJURY', axis=1) # all columns except the target\n",
    "print(X.shape)\n",
    "y = balanced_data['SEVERE_INJURY'] # target variable\n",
    "print (y.shape)\n",
    "\n"
   ]
  },
  {
   "cell_type": "code",
   "execution_count": 54,
   "id": "4f300eb7",
   "metadata": {},
   "outputs": [],
   "source": [
    "# Split the dataset into training and testing sets\n",
    "X_train, X_test, y_train, y_test = train_test_split(X, y, test_size=0.2, random_state=42)"
   ]
  },
  {
   "cell_type": "markdown",
   "id": "4d79ba7b",
   "metadata": {},
   "source": [
    "# Modeling"
   ]
  },
  {
   "cell_type": "code",
   "execution_count": 70,
   "id": "a5513f78",
   "metadata": {},
   "outputs": [],
   "source": [
    "classifier = LogisticRegression(solver = 'liblinear', max_iter = 500, C = 1000)"
   ]
  },
  {
   "cell_type": "code",
   "execution_count": 64,
   "id": "7f53d17c",
   "metadata": {},
   "outputs": [
    {
     "data": {
      "text/plain": [
       "LogisticRegression(C=1000, max_iter=500, solver='liblinear')"
      ]
     },
     "execution_count": 64,
     "metadata": {},
     "output_type": "execute_result"
    }
   ],
   "source": [
    "classifier.fit(X_train, y_train)"
   ]
  },
  {
   "cell_type": "code",
   "execution_count": 65,
   "id": "3ee0bf31",
   "metadata": {},
   "outputs": [
    {
     "name": "stdout",
     "output_type": "stream",
     "text": [
      "Accuracy on training data: 1.00\n"
     ]
    }
   ],
   "source": [
    "print(f'Accuracy on training data: {accuracy_score(classifier.predict(X_train), y_train):.2f}')"
   ]
  },
  {
   "cell_type": "code",
   "execution_count": 66,
   "id": "d43641a4",
   "metadata": {},
   "outputs": [
    {
     "name": "stdout",
     "output_type": "stream",
     "text": [
      "Accuracy on test data: 1.00\n"
     ]
    }
   ],
   "source": [
    "print(f'Accuracy on test data: {accuracy_score(classifier.predict(X_test), y_test):.2f}')"
   ]
  },
  {
   "cell_type": "code",
   "execution_count": 67,
   "id": "dba3ad50",
   "metadata": {},
   "outputs": [
    {
     "name": "stdout",
     "output_type": "stream",
     "text": [
      "Classification Report for Training Data\n",
      "              precision    recall  f1-score   support\n",
      "\n",
      "           0       1.00      1.00      1.00     21817\n",
      "           1       1.00      1.00      1.00     21789\n",
      "\n",
      "    accuracy                           1.00     43606\n",
      "   macro avg       1.00      1.00      1.00     43606\n",
      "weighted avg       1.00      1.00      1.00     43606\n",
      "\n"
     ]
    }
   ],
   "source": [
    "print(\"Classification Report for Training Data\")\n",
    "print(classification_report(y_train, classifier.predict(X_train)))"
   ]
  },
  {
   "cell_type": "code",
   "execution_count": 68,
   "id": "cb93922e",
   "metadata": {},
   "outputs": [
    {
     "name": "stdout",
     "output_type": "stream",
     "text": [
      "Classification Report for Test Data\n",
      "              precision    recall  f1-score   support\n",
      "\n",
      "           0       1.00      1.00      1.00      5437\n",
      "           1       1.00      1.00      1.00      5465\n",
      "\n",
      "    accuracy                           1.00     10902\n",
      "   macro avg       1.00      1.00      1.00     10902\n",
      "weighted avg       1.00      1.00      1.00     10902\n",
      "\n"
     ]
    }
   ],
   "source": [
    "print(\"Classification Report for Test Data\")\n",
    "print(classification_report(y_test, classifier.predict(X_test)))"
   ]
  },
  {
   "cell_type": "code",
   "execution_count": 44,
   "id": "28225a21",
   "metadata": {},
   "outputs": [
    {
     "data": {
      "text/plain": [
       "DecisionTreeClassifier(criterion='entropy', random_state=1234)"
      ]
     },
     "execution_count": 44,
     "metadata": {},
     "output_type": "execute_result"
    }
   ],
   "source": [
    "from sklearn import tree, metrics\n",
    "\n",
    "# Declare a variable called entr_model and use tree.DecisionTreeClassifier. \n",
    "entr_model = tree.DecisionTreeClassifier(criterion='entropy', random_state=1234)\n",
    "\n",
    "# Call fit() on entr_model\n",
    "entr_model.fit(X_train, y_train)\n",
    "\n",
    "# Call predict() on entr_model with X_test passed to it, and assign the result to a variable y_pred \n",
    "y_pred=entr_model.predict(X_test)\n",
    "\n",
    "# Call Series on our y_pred variable with the following: pd.Series(y_pred)\n",
    "y_pred=pd.Series(y_pred)\n",
    "\n",
    "# Check out entr_model\n",
    "entr_model\n",
    "\n"
   ]
  },
  {
   "cell_type": "code",
   "execution_count": 52,
   "id": "42d73b08",
   "metadata": {},
   "outputs": [
    {
     "name": "stdout",
     "output_type": "stream",
     "text": [
      "Model Entropy - no max depth\n",
      "Accuracy: 1.0\n",
      "Balanced accuracy: 1.0\n",
      "Precision score for \"Yes\" 1.0\n",
      "Precision score for \"No\" 1.0\n",
      "Recall score for \"Yes\" 1.0\n",
      "Recall score for \"No\" 1.0\n"
     ]
    }
   ],
   "source": [
    "from io import StringIO  \n",
    "import pydotplus\n",
    "#from IPython.display import Imag\n",
    "\n",
    "\n",
    "# Run this block for model evaluation metrics \n",
    "print(\"Model Entropy - no max depth\")\n",
    "print(\"Accuracy:\", metrics.accuracy_score(y_test,y_pred))\n",
    "print(\"Balanced accuracy:\", metrics.balanced_accuracy_score(y_test,y_pred))\n",
    "print('Precision score for \"Yes\"' , metrics.precision_score(y_test,y_pred, pos_label = 1))\n",
    "print('Precision score for \"No\"' , metrics.precision_score(y_test,y_pred, pos_label = 0))\n",
    "print('Recall score for \"Yes\"' , metrics.recall_score(y_test,y_pred, pos_label = 1))\n",
    "print('Recall score for \"No\"' , metrics.recall_score(y_test,y_pred, pos_label = 0))\n",
    "\n"
   ]
  },
  {
   "cell_type": "code",
   "execution_count": null,
   "id": "494e6102",
   "metadata": {},
   "outputs": [],
   "source": []
  }
 ],
 "metadata": {
  "kernelspec": {
   "display_name": "Python 3 (ipykernel)",
   "language": "python",
   "name": "python3"
  },
  "language_info": {
   "codemirror_mode": {
    "name": "ipython",
    "version": 3
   },
   "file_extension": ".py",
   "mimetype": "text/x-python",
   "name": "python",
   "nbconvert_exporter": "python",
   "pygments_lexer": "ipython3",
   "version": "3.9.12"
  }
 },
 "nbformat": 4,
 "nbformat_minor": 5
}
